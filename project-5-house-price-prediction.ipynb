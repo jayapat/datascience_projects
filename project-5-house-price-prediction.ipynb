{
 "cells": [
  {
   "cell_type": "code",
   "execution_count": 1,
   "id": "ba408da8",
   "metadata": {
    "_cell_guid": "b1076dfc-b9ad-4769-8c92-a6c4dae69d19",
    "_uuid": "8f2839f25d086af736a60e9eeb907d3b93b6e0e5",
    "execution": {
     "iopub.execute_input": "2022-09-23T01:39:16.846644Z",
     "iopub.status.busy": "2022-09-23T01:39:16.845734Z",
     "iopub.status.idle": "2022-09-23T01:39:16.868295Z",
     "shell.execute_reply": "2022-09-23T01:39:16.867079Z"
    },
    "papermill": {
     "duration": 0.03416,
     "end_time": "2022-09-23T01:39:16.870976",
     "exception": false,
     "start_time": "2022-09-23T01:39:16.836816",
     "status": "completed"
    },
    "tags": []
   },
   "outputs": [
    {
     "name": "stdout",
     "output_type": "stream",
     "text": [
      "/kaggle/input/house-data/house.csv\n"
     ]
    }
   ],
   "source": [
    "# This Python 3 environment comes with many helpful analytics libraries installed\n",
    "# It is defined by the kaggle/python Docker image: https://github.com/kaggle/docker-python\n",
    "# For example, here's several helpful packages to load\n",
    "\n",
    "import numpy as np # linear algebra\n",
    "import pandas as pd # data processing, CSV file I/O (e.g. pd.read_csv)\n",
    "\n",
    "# Input data files are available in the read-only \"../input/\" directory\n",
    "# For example, running this (by clicking run or pressing Shift+Enter) will list all files under the input directory\n",
    "\n",
    "import os\n",
    "for dirname, _, filenames in os.walk('/kaggle/input'):\n",
    "    for filename in filenames:\n",
    "        print(os.path.join(dirname, filename))\n",
    "\n",
    "# You can write up to 20GB to the current directory (/kaggle/working/) that gets preserved as output when you create a version using \"Save & Run All\" \n",
    "# You can also write temporary files to /kaggle/temp/, but they won't be saved outside of the current session"
   ]
  },
  {
   "cell_type": "code",
   "execution_count": 2,
   "id": "904888b9",
   "metadata": {
    "execution": {
     "iopub.execute_input": "2022-09-23T01:39:16.885447Z",
     "iopub.status.busy": "2022-09-23T01:39:16.884379Z",
     "iopub.status.idle": "2022-09-23T01:39:18.157744Z",
     "shell.execute_reply": "2022-09-23T01:39:18.156697Z"
    },
    "papermill": {
     "duration": 1.283763,
     "end_time": "2022-09-23T01:39:18.160794",
     "exception": false,
     "start_time": "2022-09-23T01:39:16.877031",
     "status": "completed"
    },
    "tags": []
   },
   "outputs": [],
   "source": [
    "# Modules, Packages and Libraries\n",
    "import sklearn\n",
    "import matplotlib.pyplot as plt\n",
    "from sklearn.model_selection import train_test_split\n",
    "from sklearn.linear_model import LinearRegression\n",
    "%matplotlib inline \n",
    "import warnings\n",
    "warnings.filterwarnings('ignore')"
   ]
  },
  {
   "cell_type": "markdown",
   "id": "927d1605",
   "metadata": {
    "papermill": {
     "duration": 0.005228,
     "end_time": "2022-09-23T01:39:18.171535",
     "exception": false,
     "start_time": "2022-09-23T01:39:18.166307",
     "status": "completed"
    },
    "tags": []
   },
   "source": [
    "# Exploratory data analysis"
   ]
  },
  {
   "cell_type": "code",
   "execution_count": 3,
   "id": "0b822cd3",
   "metadata": {
    "execution": {
     "iopub.execute_input": "2022-09-23T01:39:18.184318Z",
     "iopub.status.busy": "2022-09-23T01:39:18.183901Z",
     "iopub.status.idle": "2022-09-23T01:39:18.254401Z",
     "shell.execute_reply": "2022-09-23T01:39:18.253157Z"
    },
    "papermill": {
     "duration": 0.079839,
     "end_time": "2022-09-23T01:39:18.257072",
     "exception": false,
     "start_time": "2022-09-23T01:39:18.177233",
     "status": "completed"
    },
    "tags": []
   },
   "outputs": [
    {
     "data": {
      "text/html": [
       "<div>\n",
       "<style scoped>\n",
       "    .dataframe tbody tr th:only-of-type {\n",
       "        vertical-align: middle;\n",
       "    }\n",
       "\n",
       "    .dataframe tbody tr th {\n",
       "        vertical-align: top;\n",
       "    }\n",
       "\n",
       "    .dataframe thead th {\n",
       "        text-align: right;\n",
       "    }\n",
       "</style>\n",
       "<table border=\"1\" class=\"dataframe\">\n",
       "  <thead>\n",
       "    <tr style=\"text-align: right;\">\n",
       "      <th></th>\n",
       "      <th>TOTAL_VALUE</th>\n",
       "      <th>TAX</th>\n",
       "      <th>LOT_SQFT</th>\n",
       "      <th>GROSS_AREA</th>\n",
       "      <th>LIVING_AREA</th>\n",
       "      <th>FLOORS</th>\n",
       "      <th>ROOMS</th>\n",
       "      <th>BEDROOMS</th>\n",
       "      <th>FULL_BATH</th>\n",
       "      <th>HALF_BATH</th>\n",
       "      <th>KITCHEN</th>\n",
       "      <th>FIREPLACE</th>\n",
       "    </tr>\n",
       "  </thead>\n",
       "  <tbody>\n",
       "    <tr>\n",
       "      <th>0</th>\n",
       "      <td>344.2</td>\n",
       "      <td>4330</td>\n",
       "      <td>9965</td>\n",
       "      <td>2436</td>\n",
       "      <td>1352</td>\n",
       "      <td>2.0</td>\n",
       "      <td>6</td>\n",
       "      <td>3</td>\n",
       "      <td>1</td>\n",
       "      <td>1</td>\n",
       "      <td>1</td>\n",
       "      <td>0</td>\n",
       "    </tr>\n",
       "    <tr>\n",
       "      <th>1</th>\n",
       "      <td>412.6</td>\n",
       "      <td>5190</td>\n",
       "      <td>6590</td>\n",
       "      <td>3108</td>\n",
       "      <td>1976</td>\n",
       "      <td>2.0</td>\n",
       "      <td>10</td>\n",
       "      <td>4</td>\n",
       "      <td>2</td>\n",
       "      <td>1</td>\n",
       "      <td>1</td>\n",
       "      <td>0</td>\n",
       "    </tr>\n",
       "    <tr>\n",
       "      <th>2</th>\n",
       "      <td>330.1</td>\n",
       "      <td>4152</td>\n",
       "      <td>7500</td>\n",
       "      <td>2294</td>\n",
       "      <td>1371</td>\n",
       "      <td>2.0</td>\n",
       "      <td>8</td>\n",
       "      <td>4</td>\n",
       "      <td>1</td>\n",
       "      <td>1</td>\n",
       "      <td>1</td>\n",
       "      <td>0</td>\n",
       "    </tr>\n",
       "    <tr>\n",
       "      <th>3</th>\n",
       "      <td>498.6</td>\n",
       "      <td>6272</td>\n",
       "      <td>13773</td>\n",
       "      <td>5032</td>\n",
       "      <td>2608</td>\n",
       "      <td>1.0</td>\n",
       "      <td>9</td>\n",
       "      <td>5</td>\n",
       "      <td>1</td>\n",
       "      <td>1</td>\n",
       "      <td>1</td>\n",
       "      <td>1</td>\n",
       "    </tr>\n",
       "    <tr>\n",
       "      <th>4</th>\n",
       "      <td>331.5</td>\n",
       "      <td>4170</td>\n",
       "      <td>5000</td>\n",
       "      <td>2370</td>\n",
       "      <td>1438</td>\n",
       "      <td>2.0</td>\n",
       "      <td>7</td>\n",
       "      <td>3</td>\n",
       "      <td>2</td>\n",
       "      <td>0</td>\n",
       "      <td>1</td>\n",
       "      <td>0</td>\n",
       "    </tr>\n",
       "  </tbody>\n",
       "</table>\n",
       "</div>"
      ],
      "text/plain": [
       "   TOTAL_VALUE   TAX  LOT_SQFT  GROSS_AREA  LIVING_AREA  FLOORS  ROOMS  \\\n",
       "0        344.2  4330      9965        2436         1352     2.0      6   \n",
       "1        412.6  5190      6590        3108         1976     2.0     10   \n",
       "2        330.1  4152      7500        2294         1371     2.0      8   \n",
       "3        498.6  6272     13773        5032         2608     1.0      9   \n",
       "4        331.5  4170      5000        2370         1438     2.0      7   \n",
       "\n",
       "   BEDROOMS  FULL_BATH  HALF_BATH  KITCHEN  FIREPLACE  \n",
       "0         3          1          1        1          0  \n",
       "1         4          2          1        1          0  \n",
       "2         4          1          1        1          0  \n",
       "3         5          1          1        1          1  \n",
       "4         3          2          0        1          0  "
      ]
     },
     "execution_count": 3,
     "metadata": {},
     "output_type": "execute_result"
    }
   ],
   "source": [
    "# Read the Dataset\n",
    "df = pd.read_csv('/kaggle/input/house-data/house.csv')\n",
    "df.head()"
   ]
  },
  {
   "cell_type": "code",
   "execution_count": 4,
   "id": "cb9a7e90",
   "metadata": {
    "execution": {
     "iopub.execute_input": "2022-09-23T01:39:18.270385Z",
     "iopub.status.busy": "2022-09-23T01:39:18.269949Z",
     "iopub.status.idle": "2022-09-23T01:39:18.278436Z",
     "shell.execute_reply": "2022-09-23T01:39:18.277296Z"
    },
    "papermill": {
     "duration": 0.018022,
     "end_time": "2022-09-23T01:39:18.280912",
     "exception": false,
     "start_time": "2022-09-23T01:39:18.262890",
     "status": "completed"
    },
    "tags": []
   },
   "outputs": [
    {
     "data": {
      "text/plain": [
       "Index(['total_value', 'tax', 'lot_sqft', 'gross_area', 'living_area', 'floors',\n",
       "       'rooms', 'bedrooms', 'full_bath', 'half_bath', 'kitchen', 'fireplace'],\n",
       "      dtype='object')"
      ]
     },
     "execution_count": 4,
     "metadata": {},
     "output_type": "execute_result"
    }
   ],
   "source": [
    "# Let's convert the name of the columns in smaller case\n",
    "df.columns = df.columns.str.lower()\n",
    "df.columns"
   ]
  },
  {
   "cell_type": "code",
   "execution_count": 5,
   "id": "12b43172",
   "metadata": {
    "execution": {
     "iopub.execute_input": "2022-09-23T01:39:18.294559Z",
     "iopub.status.busy": "2022-09-23T01:39:18.293938Z",
     "iopub.status.idle": "2022-09-23T01:39:18.321036Z",
     "shell.execute_reply": "2022-09-23T01:39:18.319854Z"
    },
    "papermill": {
     "duration": 0.036713,
     "end_time": "2022-09-23T01:39:18.323507",
     "exception": false,
     "start_time": "2022-09-23T01:39:18.286794",
     "status": "completed"
    },
    "tags": []
   },
   "outputs": [
    {
     "name": "stdout",
     "output_type": "stream",
     "text": [
      "(5802, 12)\n",
      "<class 'pandas.core.frame.DataFrame'>\n",
      "RangeIndex: 5802 entries, 0 to 5801\n",
      "Data columns (total 12 columns):\n",
      " #   Column       Non-Null Count  Dtype  \n",
      "---  ------       --------------  -----  \n",
      " 0   total_value  5802 non-null   float64\n",
      " 1   tax          5802 non-null   int64  \n",
      " 2   lot_sqft     5802 non-null   int64  \n",
      " 3   gross_area   5802 non-null   int64  \n",
      " 4   living_area  5802 non-null   int64  \n",
      " 5   floors       5802 non-null   float64\n",
      " 6   rooms        5802 non-null   int64  \n",
      " 7   bedrooms     5802 non-null   int64  \n",
      " 8   full_bath    5802 non-null   int64  \n",
      " 9   half_bath    5802 non-null   int64  \n",
      " 10  kitchen      5802 non-null   int64  \n",
      " 11  fireplace    5802 non-null   int64  \n",
      "dtypes: float64(2), int64(10)\n",
      "memory usage: 544.1 KB\n"
     ]
    }
   ],
   "source": [
    "# Summary Statistics of the Data\n",
    "print(df.shape) # There are 5802 observations\n",
    "df.info()\n",
    "\n",
    "# 10 Independent Variabels and 1 Dependent Varible: Total Value\n",
    "# There is no non-null values as well as all the data types are either float or either int"
   ]
  },
  {
   "cell_type": "code",
   "execution_count": 6,
   "id": "fb46925f",
   "metadata": {
    "execution": {
     "iopub.execute_input": "2022-09-23T01:39:18.338778Z",
     "iopub.status.busy": "2022-09-23T01:39:18.337763Z",
     "iopub.status.idle": "2022-09-23T01:39:18.388261Z",
     "shell.execute_reply": "2022-09-23T01:39:18.387011Z"
    },
    "papermill": {
     "duration": 0.060184,
     "end_time": "2022-09-23T01:39:18.390660",
     "exception": false,
     "start_time": "2022-09-23T01:39:18.330476",
     "status": "completed"
    },
    "tags": []
   },
   "outputs": [
    {
     "data": {
      "text/html": [
       "<div>\n",
       "<style scoped>\n",
       "    .dataframe tbody tr th:only-of-type {\n",
       "        vertical-align: middle;\n",
       "    }\n",
       "\n",
       "    .dataframe tbody tr th {\n",
       "        vertical-align: top;\n",
       "    }\n",
       "\n",
       "    .dataframe thead th {\n",
       "        text-align: right;\n",
       "    }\n",
       "</style>\n",
       "<table border=\"1\" class=\"dataframe\">\n",
       "  <thead>\n",
       "    <tr style=\"text-align: right;\">\n",
       "      <th></th>\n",
       "      <th>total_value</th>\n",
       "      <th>tax</th>\n",
       "      <th>lot_sqft</th>\n",
       "      <th>gross_area</th>\n",
       "      <th>living_area</th>\n",
       "      <th>floors</th>\n",
       "      <th>rooms</th>\n",
       "      <th>bedrooms</th>\n",
       "      <th>full_bath</th>\n",
       "      <th>half_bath</th>\n",
       "      <th>kitchen</th>\n",
       "      <th>fireplace</th>\n",
       "    </tr>\n",
       "  </thead>\n",
       "  <tbody>\n",
       "    <tr>\n",
       "      <th>count</th>\n",
       "      <td>5802.000000</td>\n",
       "      <td>5802.000000</td>\n",
       "      <td>5802.000000</td>\n",
       "      <td>5802.000000</td>\n",
       "      <td>5802.000000</td>\n",
       "      <td>5802.000000</td>\n",
       "      <td>5802.000000</td>\n",
       "      <td>5802.000000</td>\n",
       "      <td>5802.000000</td>\n",
       "      <td>5802.000000</td>\n",
       "      <td>5802.00000</td>\n",
       "      <td>5802.000000</td>\n",
       "    </tr>\n",
       "    <tr>\n",
       "      <th>mean</th>\n",
       "      <td>392.685715</td>\n",
       "      <td>4939.485867</td>\n",
       "      <td>6278.083764</td>\n",
       "      <td>2924.842123</td>\n",
       "      <td>1657.065322</td>\n",
       "      <td>1.683730</td>\n",
       "      <td>6.994829</td>\n",
       "      <td>3.230093</td>\n",
       "      <td>1.296794</td>\n",
       "      <td>0.613926</td>\n",
       "      <td>1.01534</td>\n",
       "      <td>0.739917</td>\n",
       "    </tr>\n",
       "    <tr>\n",
       "      <th>std</th>\n",
       "      <td>99.177414</td>\n",
       "      <td>1247.649118</td>\n",
       "      <td>2669.707974</td>\n",
       "      <td>883.984726</td>\n",
       "      <td>540.456726</td>\n",
       "      <td>0.444884</td>\n",
       "      <td>1.437657</td>\n",
       "      <td>0.846607</td>\n",
       "      <td>0.522040</td>\n",
       "      <td>0.533839</td>\n",
       "      <td>0.12291</td>\n",
       "      <td>0.565108</td>\n",
       "    </tr>\n",
       "    <tr>\n",
       "      <th>min</th>\n",
       "      <td>105.000000</td>\n",
       "      <td>1320.000000</td>\n",
       "      <td>997.000000</td>\n",
       "      <td>821.000000</td>\n",
       "      <td>504.000000</td>\n",
       "      <td>1.000000</td>\n",
       "      <td>3.000000</td>\n",
       "      <td>1.000000</td>\n",
       "      <td>1.000000</td>\n",
       "      <td>0.000000</td>\n",
       "      <td>1.00000</td>\n",
       "      <td>0.000000</td>\n",
       "    </tr>\n",
       "    <tr>\n",
       "      <th>25%</th>\n",
       "      <td>325.125000</td>\n",
       "      <td>4089.500000</td>\n",
       "      <td>4772.000000</td>\n",
       "      <td>2347.000000</td>\n",
       "      <td>1308.000000</td>\n",
       "      <td>1.000000</td>\n",
       "      <td>6.000000</td>\n",
       "      <td>3.000000</td>\n",
       "      <td>1.000000</td>\n",
       "      <td>0.000000</td>\n",
       "      <td>1.00000</td>\n",
       "      <td>0.000000</td>\n",
       "    </tr>\n",
       "    <tr>\n",
       "      <th>50%</th>\n",
       "      <td>375.900000</td>\n",
       "      <td>4728.000000</td>\n",
       "      <td>5683.000000</td>\n",
       "      <td>2700.000000</td>\n",
       "      <td>1548.500000</td>\n",
       "      <td>2.000000</td>\n",
       "      <td>7.000000</td>\n",
       "      <td>3.000000</td>\n",
       "      <td>1.000000</td>\n",
       "      <td>1.000000</td>\n",
       "      <td>1.00000</td>\n",
       "      <td>1.000000</td>\n",
       "    </tr>\n",
       "    <tr>\n",
       "      <th>75%</th>\n",
       "      <td>438.775000</td>\n",
       "      <td>5519.500000</td>\n",
       "      <td>7022.250000</td>\n",
       "      <td>3239.000000</td>\n",
       "      <td>1873.750000</td>\n",
       "      <td>2.000000</td>\n",
       "      <td>8.000000</td>\n",
       "      <td>4.000000</td>\n",
       "      <td>2.000000</td>\n",
       "      <td>1.000000</td>\n",
       "      <td>1.00000</td>\n",
       "      <td>1.000000</td>\n",
       "    </tr>\n",
       "    <tr>\n",
       "      <th>max</th>\n",
       "      <td>1217.800000</td>\n",
       "      <td>15319.000000</td>\n",
       "      <td>46411.000000</td>\n",
       "      <td>8154.000000</td>\n",
       "      <td>5289.000000</td>\n",
       "      <td>3.000000</td>\n",
       "      <td>14.000000</td>\n",
       "      <td>9.000000</td>\n",
       "      <td>5.000000</td>\n",
       "      <td>3.000000</td>\n",
       "      <td>2.00000</td>\n",
       "      <td>4.000000</td>\n",
       "    </tr>\n",
       "  </tbody>\n",
       "</table>\n",
       "</div>"
      ],
      "text/plain": [
       "       total_value           tax      lot_sqft   gross_area  living_area  \\\n",
       "count  5802.000000   5802.000000   5802.000000  5802.000000  5802.000000   \n",
       "mean    392.685715   4939.485867   6278.083764  2924.842123  1657.065322   \n",
       "std      99.177414   1247.649118   2669.707974   883.984726   540.456726   \n",
       "min     105.000000   1320.000000    997.000000   821.000000   504.000000   \n",
       "25%     325.125000   4089.500000   4772.000000  2347.000000  1308.000000   \n",
       "50%     375.900000   4728.000000   5683.000000  2700.000000  1548.500000   \n",
       "75%     438.775000   5519.500000   7022.250000  3239.000000  1873.750000   \n",
       "max    1217.800000  15319.000000  46411.000000  8154.000000  5289.000000   \n",
       "\n",
       "            floors        rooms     bedrooms    full_bath    half_bath  \\\n",
       "count  5802.000000  5802.000000  5802.000000  5802.000000  5802.000000   \n",
       "mean      1.683730     6.994829     3.230093     1.296794     0.613926   \n",
       "std       0.444884     1.437657     0.846607     0.522040     0.533839   \n",
       "min       1.000000     3.000000     1.000000     1.000000     0.000000   \n",
       "25%       1.000000     6.000000     3.000000     1.000000     0.000000   \n",
       "50%       2.000000     7.000000     3.000000     1.000000     1.000000   \n",
       "75%       2.000000     8.000000     4.000000     2.000000     1.000000   \n",
       "max       3.000000    14.000000     9.000000     5.000000     3.000000   \n",
       "\n",
       "          kitchen    fireplace  \n",
       "count  5802.00000  5802.000000  \n",
       "mean      1.01534     0.739917  \n",
       "std       0.12291     0.565108  \n",
       "min       1.00000     0.000000  \n",
       "25%       1.00000     0.000000  \n",
       "50%       1.00000     1.000000  \n",
       "75%       1.00000     1.000000  \n",
       "max       2.00000     4.000000  "
      ]
     },
     "execution_count": 6,
     "metadata": {},
     "output_type": "execute_result"
    }
   ],
   "source": [
    "df.describe()\n",
    "\n",
    "# Graphs we have created in the Power BI"
   ]
  },
  {
   "cell_type": "markdown",
   "id": "cc98a64e",
   "metadata": {
    "papermill": {
     "duration": 0.00585,
     "end_time": "2022-09-23T01:39:18.402656",
     "exception": false,
     "start_time": "2022-09-23T01:39:18.396806",
     "status": "completed"
    },
    "tags": []
   },
   "source": [
    "# Linear regression"
   ]
  },
  {
   "cell_type": "markdown",
   "id": "c52a8d66",
   "metadata": {
    "papermill": {
     "duration": 0.005835,
     "end_time": "2022-09-23T01:39:18.414613",
     "exception": false,
     "start_time": "2022-09-23T01:39:18.408778",
     "status": "completed"
    },
    "tags": []
   },
   "source": [
    "### Split the Dependent and Independent variables in the X and Y datasets"
   ]
  },
  {
   "cell_type": "code",
   "execution_count": 7,
   "id": "c5367e14",
   "metadata": {
    "execution": {
     "iopub.execute_input": "2022-09-23T01:39:18.428741Z",
     "iopub.status.busy": "2022-09-23T01:39:18.428095Z",
     "iopub.status.idle": "2022-09-23T01:39:18.442184Z",
     "shell.execute_reply": "2022-09-23T01:39:18.440843Z"
    },
    "papermill": {
     "duration": 0.023939,
     "end_time": "2022-09-23T01:39:18.444576",
     "exception": false,
     "start_time": "2022-09-23T01:39:18.420637",
     "status": "completed"
    },
    "tags": []
   },
   "outputs": [
    {
     "name": "stdout",
     "output_type": "stream",
     "text": [
      "<class 'pandas.core.frame.DataFrame'>\n",
      "RangeIndex: 5802 entries, 0 to 5801\n",
      "Data columns (total 10 columns):\n",
      " #   Column       Non-Null Count  Dtype  \n",
      "---  ------       --------------  -----  \n",
      " 0   lot_sqft     5802 non-null   int64  \n",
      " 1   gross_area   5802 non-null   int64  \n",
      " 2   living_area  5802 non-null   int64  \n",
      " 3   floors       5802 non-null   float64\n",
      " 4   rooms        5802 non-null   int64  \n",
      " 5   bedrooms     5802 non-null   int64  \n",
      " 6   full_bath    5802 non-null   int64  \n",
      " 7   half_bath    5802 non-null   int64  \n",
      " 8   kitchen      5802 non-null   int64  \n",
      " 9   fireplace    5802 non-null   int64  \n",
      "dtypes: float64(1), int64(9)\n",
      "memory usage: 453.4 KB\n",
      "None (5802,)\n"
     ]
    }
   ],
   "source": [
    "x_df = df.drop(columns=['total_value', 'tax'])\n",
    "y_df = df['total_value']\n",
    "print(x_df.info(), y_df.shape)"
   ]
  },
  {
   "cell_type": "markdown",
   "id": "1599272f",
   "metadata": {
    "papermill": {
     "duration": 0.006889,
     "end_time": "2022-09-23T01:39:18.457580",
     "exception": false,
     "start_time": "2022-09-23T01:39:18.450691",
     "status": "completed"
    },
    "tags": []
   },
   "source": [
    "### Split the data into x-train, y-trian, x-test and y-test"
   ]
  },
  {
   "cell_type": "code",
   "execution_count": 8,
   "id": "5c993419",
   "metadata": {
    "execution": {
     "iopub.execute_input": "2022-09-23T01:39:18.471520Z",
     "iopub.status.busy": "2022-09-23T01:39:18.471148Z",
     "iopub.status.idle": "2022-09-23T01:39:18.479804Z",
     "shell.execute_reply": "2022-09-23T01:39:18.478452Z"
    },
    "papermill": {
     "duration": 0.01852,
     "end_time": "2022-09-23T01:39:18.482151",
     "exception": false,
     "start_time": "2022-09-23T01:39:18.463631",
     "status": "completed"
    },
    "tags": []
   },
   "outputs": [
    {
     "name": "stdout",
     "output_type": "stream",
     "text": [
      "(4061, 10) (1741, 10)\n"
     ]
    }
   ],
   "source": [
    "x_train, x_test, y_train, y_test = train_test_split(x_df, y_df, test_size = 0.3, random_state = 42 , shuffle= True)\n",
    "print(x_train.shape, x_test.shape)"
   ]
  },
  {
   "cell_type": "code",
   "execution_count": 9,
   "id": "184e3ca8",
   "metadata": {
    "execution": {
     "iopub.execute_input": "2022-09-23T01:39:18.496644Z",
     "iopub.status.busy": "2022-09-23T01:39:18.496235Z",
     "iopub.status.idle": "2022-09-23T01:39:18.529452Z",
     "shell.execute_reply": "2022-09-23T01:39:18.528234Z"
    },
    "papermill": {
     "duration": 0.044823,
     "end_time": "2022-09-23T01:39:18.533358",
     "exception": false,
     "start_time": "2022-09-23T01:39:18.488535",
     "status": "completed"
    },
    "tags": []
   },
   "outputs": [
    {
     "data": {
      "text/plain": [
       "LinearRegression()"
      ]
     },
     "execution_count": 9,
     "metadata": {},
     "output_type": "execute_result"
    }
   ],
   "source": [
    "# Liner regression model\n",
    "model_lr = LinearRegression()\n",
    "model_lr.fit(x_train,y_train)"
   ]
  },
  {
   "cell_type": "code",
   "execution_count": 10,
   "id": "46466dbd",
   "metadata": {
    "execution": {
     "iopub.execute_input": "2022-09-23T01:39:18.568485Z",
     "iopub.status.busy": "2022-09-23T01:39:18.567616Z",
     "iopub.status.idle": "2022-09-23T01:39:18.589690Z",
     "shell.execute_reply": "2022-09-23T01:39:18.588144Z"
    },
    "papermill": {
     "duration": 0.046582,
     "end_time": "2022-09-23T01:39:18.595959",
     "exception": false,
     "start_time": "2022-09-23T01:39:18.549377",
     "status": "completed"
    },
    "tags": []
   },
   "outputs": [
    {
     "name": "stdout",
     "output_type": "stream",
     "text": [
      "57.50926413337015\n"
     ]
    },
    {
     "data": {
      "text/html": [
       "<div>\n",
       "<style scoped>\n",
       "    .dataframe tbody tr th:only-of-type {\n",
       "        vertical-align: middle;\n",
       "    }\n",
       "\n",
       "    .dataframe tbody tr th {\n",
       "        vertical-align: top;\n",
       "    }\n",
       "\n",
       "    .dataframe thead th {\n",
       "        text-align: right;\n",
       "    }\n",
       "</style>\n",
       "<table border=\"1\" class=\"dataframe\">\n",
       "  <thead>\n",
       "    <tr style=\"text-align: right;\">\n",
       "      <th></th>\n",
       "      <th>0</th>\n",
       "    </tr>\n",
       "  </thead>\n",
       "  <tbody>\n",
       "    <tr>\n",
       "      <th>0.008189</th>\n",
       "      <td>lot_sqft</td>\n",
       "    </tr>\n",
       "    <tr>\n",
       "      <th>0.030107</th>\n",
       "      <td>gross_area</td>\n",
       "    </tr>\n",
       "    <tr>\n",
       "      <th>0.054420</th>\n",
       "      <td>living_area</td>\n",
       "    </tr>\n",
       "    <tr>\n",
       "      <th>39.349560</th>\n",
       "      <td>floors</td>\n",
       "    </tr>\n",
       "    <tr>\n",
       "      <th>-0.005571</th>\n",
       "      <td>rooms</td>\n",
       "    </tr>\n",
       "    <tr>\n",
       "      <th>-0.438971</th>\n",
       "      <td>bedrooms</td>\n",
       "    </tr>\n",
       "    <tr>\n",
       "      <th>23.719695</th>\n",
       "      <td>full_bath</td>\n",
       "    </tr>\n",
       "    <tr>\n",
       "      <th>18.974344</th>\n",
       "      <td>half_bath</td>\n",
       "    </tr>\n",
       "    <tr>\n",
       "      <th>-16.887755</th>\n",
       "      <td>kitchen</td>\n",
       "    </tr>\n",
       "    <tr>\n",
       "      <th>20.404907</th>\n",
       "      <td>fireplace</td>\n",
       "    </tr>\n",
       "  </tbody>\n",
       "</table>\n",
       "</div>"
      ],
      "text/plain": [
       "                      0\n",
       " 0.008189      lot_sqft\n",
       " 0.030107    gross_area\n",
       " 0.054420   living_area\n",
       " 39.349560       floors\n",
       "-0.005571         rooms\n",
       "-0.438971      bedrooms\n",
       " 23.719695    full_bath\n",
       " 18.974344    half_bath\n",
       "-16.887755      kitchen\n",
       " 20.404907    fireplace"
      ]
     },
     "execution_count": 10,
     "metadata": {},
     "output_type": "execute_result"
    }
   ],
   "source": [
    "#let's find out what are the coefficients and intercept\n",
    "np.set_printoptions(precision=4, suppress=True)\n",
    "print(model_lr.intercept_)\n",
    "pd.DataFrame(x_train.columns, model_lr.coef_)"
   ]
  },
  {
   "cell_type": "code",
   "execution_count": 11,
   "id": "b6916866",
   "metadata": {
    "execution": {
     "iopub.execute_input": "2022-09-23T01:39:18.632419Z",
     "iopub.status.busy": "2022-09-23T01:39:18.631135Z",
     "iopub.status.idle": "2022-09-23T01:39:18.650460Z",
     "shell.execute_reply": "2022-09-23T01:39:18.648381Z"
    },
    "papermill": {
     "duration": 0.042576,
     "end_time": "2022-09-23T01:39:18.655004",
     "exception": false,
     "start_time": "2022-09-23T01:39:18.612428",
     "status": "completed"
    },
    "tags": []
   },
   "outputs": [],
   "source": [
    "# Predict the price of the test data\n",
    "y_train_predict = model_lr.predict(x_train)\n",
    "y_test_predict = model_lr.predict(x_test)"
   ]
  },
  {
   "cell_type": "code",
   "execution_count": 12,
   "id": "5f8ac004",
   "metadata": {
    "execution": {
     "iopub.execute_input": "2022-09-23T01:39:18.690747Z",
     "iopub.status.busy": "2022-09-23T01:39:18.690064Z",
     "iopub.status.idle": "2022-09-23T01:39:18.704760Z",
     "shell.execute_reply": "2022-09-23T01:39:18.702773Z"
    },
    "papermill": {
     "duration": 0.037452,
     "end_time": "2022-09-23T01:39:18.708938",
     "exception": false,
     "start_time": "2022-09-23T01:39:18.671486",
     "status": "completed"
    },
    "tags": []
   },
   "outputs": [
    {
     "name": "stdout",
     "output_type": "stream",
     "text": [
      "mae : 34.61784243642632\n",
      "mse : 2108.5454620739065\n"
     ]
    }
   ],
   "source": [
    "# mean absolute error\n",
    "e = y_test - y_test_predict\n",
    "mae = np.mean(np.abs(e))\n",
    "print('mae :', mae)\n",
    "\n",
    "#mean squared error\n",
    "e = y_test - y_test_predict\n",
    "mse = np.mean(e**2)\n",
    "print('mse :', mse)"
   ]
  },
  {
   "cell_type": "code",
   "execution_count": 13,
   "id": "4507e9e6",
   "metadata": {
    "execution": {
     "iopub.execute_input": "2022-09-23T01:39:18.746100Z",
     "iopub.status.busy": "2022-09-23T01:39:18.745364Z",
     "iopub.status.idle": "2022-09-23T01:39:18.768580Z",
     "shell.execute_reply": "2022-09-23T01:39:18.766691Z"
    },
    "papermill": {
     "duration": 0.046884,
     "end_time": "2022-09-23T01:39:18.772828",
     "exception": false,
     "start_time": "2022-09-23T01:39:18.725944",
     "status": "completed"
    },
    "tags": []
   },
   "outputs": [
    {
     "name": "stdout",
     "output_type": "stream",
     "text": [
      "Train R-Square 0.8093612001229493\n",
      "Test R-Square 0.7975638139726435\n"
     ]
    }
   ],
   "source": [
    "# Lets find out the Rsqure for the model\n",
    "print('Train R-Square',model_lr.score(x_train, y_train))\n",
    "print('Test R-Square',model_lr.score(x_test, y_test))"
   ]
  },
  {
   "cell_type": "markdown",
   "id": "bc8b5aef",
   "metadata": {
    "papermill": {
     "duration": 0.016244,
     "end_time": "2022-09-23T01:39:18.806219",
     "exception": false,
     "start_time": "2022-09-23T01:39:18.789975",
     "status": "completed"
    },
    "tags": []
   },
   "source": [
    "### **Conclusion:** Here Model has performed same pn both the training data and test data, so there is no overfitting and underfitting.But, at the same time the accuracy of the price prediction is low."
   ]
  },
  {
   "cell_type": "markdown",
   "id": "55e594e8",
   "metadata": {
    "papermill": {
     "duration": 0.016092,
     "end_time": "2022-09-23T01:39:18.839405",
     "exception": false,
     "start_time": "2022-09-23T01:39:18.823313",
     "status": "completed"
    },
    "tags": []
   },
   "source": [
    "# Polynomial Regression"
   ]
  },
  {
   "cell_type": "code",
   "execution_count": null,
   "id": "b8196d1a",
   "metadata": {
    "papermill": {
     "duration": 0.016072,
     "end_time": "2022-09-23T01:39:18.872275",
     "exception": false,
     "start_time": "2022-09-23T01:39:18.856203",
     "status": "completed"
    },
    "tags": []
   },
   "outputs": [],
   "source": []
  },
  {
   "cell_type": "markdown",
   "id": "01750d2a",
   "metadata": {
    "papermill": {
     "duration": 0.006566,
     "end_time": "2022-09-23T01:39:18.893077",
     "exception": false,
     "start_time": "2022-09-23T01:39:18.886511",
     "status": "completed"
    },
    "tags": []
   },
   "source": [
    "# Ridge Regression"
   ]
  },
  {
   "cell_type": "markdown",
   "id": "13ea680d",
   "metadata": {
    "papermill": {
     "duration": 0.006587,
     "end_time": "2022-09-23T01:39:18.906376",
     "exception": false,
     "start_time": "2022-09-23T01:39:18.899789",
     "status": "completed"
    },
    "tags": []
   },
   "source": [
    "# Lasso Regression"
   ]
  },
  {
   "cell_type": "markdown",
   "id": "a3fbb4fe",
   "metadata": {
    "papermill": {
     "duration": 0.006228,
     "end_time": "2022-09-23T01:39:18.919540",
     "exception": false,
     "start_time": "2022-09-23T01:39:18.913312",
     "status": "completed"
    },
    "tags": []
   },
   "source": [
    "# KNN for Regression"
   ]
  }
 ],
 "metadata": {
  "kernelspec": {
   "display_name": "Python 3",
   "language": "python",
   "name": "python3"
  },
  "language_info": {
   "codemirror_mode": {
    "name": "ipython",
    "version": 3
   },
   "file_extension": ".py",
   "mimetype": "text/x-python",
   "name": "python",
   "nbconvert_exporter": "python",
   "pygments_lexer": "ipython3",
   "version": "3.7.12"
  },
  "papermill": {
   "default_parameters": {},
   "duration": 12.269844,
   "end_time": "2022-09-23T01:39:19.648274",
   "environment_variables": {},
   "exception": null,
   "input_path": "__notebook__.ipynb",
   "output_path": "__notebook__.ipynb",
   "parameters": {},
   "start_time": "2022-09-23T01:39:07.378430",
   "version": "2.3.4"
  }
 },
 "nbformat": 4,
 "nbformat_minor": 5
}
