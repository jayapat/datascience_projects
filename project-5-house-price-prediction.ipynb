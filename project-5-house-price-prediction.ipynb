{
 "cells": [
  {
   "cell_type": "code",
   "execution_count": 1,
   "id": "de26154c",
   "metadata": {
    "_cell_guid": "b1076dfc-b9ad-4769-8c92-a6c4dae69d19",
    "_uuid": "8f2839f25d086af736a60e9eeb907d3b93b6e0e5",
    "execution": {
     "iopub.execute_input": "2022-09-23T17:03:48.829303Z",
     "iopub.status.busy": "2022-09-23T17:03:48.828827Z",
     "iopub.status.idle": "2022-09-23T17:03:48.848828Z",
     "shell.execute_reply": "2022-09-23T17:03:48.847328Z"
    },
    "papermill": {
     "duration": 0.033653,
     "end_time": "2022-09-23T17:03:48.851070",
     "exception": false,
     "start_time": "2022-09-23T17:03:48.817417",
     "status": "completed"
    },
    "tags": []
   },
   "outputs": [
    {
     "name": "stdout",
     "output_type": "stream",
     "text": [
      "/kaggle/input/house-data/house.csv\n"
     ]
    }
   ],
   "source": [
    "# This Python 3 environment comes with many helpful analytics libraries installed\n",
    "# It is defined by the kaggle/python Docker image: https://github.com/kaggle/docker-python\n",
    "# For example, here's several helpful packages to load\n",
    "\n",
    "import numpy as np # linear algebra\n",
    "import pandas as pd # data processing, CSV file I/O (e.g. pd.read_csv)\n",
    "\n",
    "# Input data files are available in the read-only \"../input/\" directory\n",
    "# For example, running this (by clicking run or pressing Shift+Enter) will list all files under the input directory\n",
    "\n",
    "import os\n",
    "for dirname, _, filenames in os.walk('/kaggle/input'):\n",
    "    for filename in filenames:\n",
    "        print(os.path.join(dirname, filename))\n",
    "\n",
    "# You can write up to 20GB to the current directory (/kaggle/working/) that gets preserved as output when you create a version using \"Save & Run All\" \n",
    "# You can also write temporary files to /kaggle/temp/, but they won't be saved outside of the current session"
   ]
  },
  {
   "cell_type": "code",
   "execution_count": 2,
   "id": "4ccaf3ff",
   "metadata": {
    "execution": {
     "iopub.execute_input": "2022-09-23T17:03:48.870383Z",
     "iopub.status.busy": "2022-09-23T17:03:48.870042Z",
     "iopub.status.idle": "2022-09-23T17:03:49.958818Z",
     "shell.execute_reply": "2022-09-23T17:03:49.957892Z"
    },
    "papermill": {
     "duration": 1.100836,
     "end_time": "2022-09-23T17:03:49.961211",
     "exception": false,
     "start_time": "2022-09-23T17:03:48.860375",
     "status": "completed"
    },
    "tags": []
   },
   "outputs": [],
   "source": [
    "# Modules, Packages and Libraries\n",
    "import sklearn\n",
    "import matplotlib.pyplot as plt\n",
    "from sklearn.model_selection import train_test_split\n",
    "from sklearn.linear_model import LinearRegression\n",
    "%matplotlib inline \n",
    "import warnings\n",
    "warnings.filterwarnings('ignore')\n",
    "from sklearn.preprocessing  import PolynomialFeatures\n",
    "from sklearn.pipeline import make_pipeline\n",
    "import seaborn as sns\n",
    "from sklearn.model_selection import GridSearchCV\n",
    "from sklearn.linear_model import Ridge\n",
    "from sklearn.linear_model import Lasso"
   ]
  },
  {
   "cell_type": "markdown",
   "id": "750779cf",
   "metadata": {
    "papermill": {
     "duration": 0.008248,
     "end_time": "2022-09-23T17:03:49.978227",
     "exception": false,
     "start_time": "2022-09-23T17:03:49.969979",
     "status": "completed"
    },
    "tags": []
   },
   "source": [
    "# Exploratory data analysis"
   ]
  },
  {
   "cell_type": "code",
   "execution_count": 3,
   "id": "65ec999f",
   "metadata": {
    "execution": {
     "iopub.execute_input": "2022-09-23T17:03:49.998116Z",
     "iopub.status.busy": "2022-09-23T17:03:49.997521Z",
     "iopub.status.idle": "2022-09-23T17:03:50.043250Z",
     "shell.execute_reply": "2022-09-23T17:03:50.042268Z"
    },
    "papermill": {
     "duration": 0.05762,
     "end_time": "2022-09-23T17:03:50.045412",
     "exception": false,
     "start_time": "2022-09-23T17:03:49.987792",
     "status": "completed"
    },
    "tags": []
   },
   "outputs": [
    {
     "data": {
      "text/html": [
       "<div>\n",
       "<style scoped>\n",
       "    .dataframe tbody tr th:only-of-type {\n",
       "        vertical-align: middle;\n",
       "    }\n",
       "\n",
       "    .dataframe tbody tr th {\n",
       "        vertical-align: top;\n",
       "    }\n",
       "\n",
       "    .dataframe thead th {\n",
       "        text-align: right;\n",
       "    }\n",
       "</style>\n",
       "<table border=\"1\" class=\"dataframe\">\n",
       "  <thead>\n",
       "    <tr style=\"text-align: right;\">\n",
       "      <th></th>\n",
       "      <th>TOTAL_VALUE</th>\n",
       "      <th>TAX</th>\n",
       "      <th>LOT_SQFT</th>\n",
       "      <th>GROSS_AREA</th>\n",
       "      <th>LIVING_AREA</th>\n",
       "      <th>FLOORS</th>\n",
       "      <th>ROOMS</th>\n",
       "      <th>BEDROOMS</th>\n",
       "      <th>FULL_BATH</th>\n",
       "      <th>HALF_BATH</th>\n",
       "      <th>KITCHEN</th>\n",
       "      <th>FIREPLACE</th>\n",
       "    </tr>\n",
       "  </thead>\n",
       "  <tbody>\n",
       "    <tr>\n",
       "      <th>0</th>\n",
       "      <td>344.2</td>\n",
       "      <td>4330</td>\n",
       "      <td>9965</td>\n",
       "      <td>2436</td>\n",
       "      <td>1352</td>\n",
       "      <td>2.0</td>\n",
       "      <td>6</td>\n",
       "      <td>3</td>\n",
       "      <td>1</td>\n",
       "      <td>1</td>\n",
       "      <td>1</td>\n",
       "      <td>0</td>\n",
       "    </tr>\n",
       "    <tr>\n",
       "      <th>1</th>\n",
       "      <td>412.6</td>\n",
       "      <td>5190</td>\n",
       "      <td>6590</td>\n",
       "      <td>3108</td>\n",
       "      <td>1976</td>\n",
       "      <td>2.0</td>\n",
       "      <td>10</td>\n",
       "      <td>4</td>\n",
       "      <td>2</td>\n",
       "      <td>1</td>\n",
       "      <td>1</td>\n",
       "      <td>0</td>\n",
       "    </tr>\n",
       "    <tr>\n",
       "      <th>2</th>\n",
       "      <td>330.1</td>\n",
       "      <td>4152</td>\n",
       "      <td>7500</td>\n",
       "      <td>2294</td>\n",
       "      <td>1371</td>\n",
       "      <td>2.0</td>\n",
       "      <td>8</td>\n",
       "      <td>4</td>\n",
       "      <td>1</td>\n",
       "      <td>1</td>\n",
       "      <td>1</td>\n",
       "      <td>0</td>\n",
       "    </tr>\n",
       "    <tr>\n",
       "      <th>3</th>\n",
       "      <td>498.6</td>\n",
       "      <td>6272</td>\n",
       "      <td>13773</td>\n",
       "      <td>5032</td>\n",
       "      <td>2608</td>\n",
       "      <td>1.0</td>\n",
       "      <td>9</td>\n",
       "      <td>5</td>\n",
       "      <td>1</td>\n",
       "      <td>1</td>\n",
       "      <td>1</td>\n",
       "      <td>1</td>\n",
       "    </tr>\n",
       "    <tr>\n",
       "      <th>4</th>\n",
       "      <td>331.5</td>\n",
       "      <td>4170</td>\n",
       "      <td>5000</td>\n",
       "      <td>2370</td>\n",
       "      <td>1438</td>\n",
       "      <td>2.0</td>\n",
       "      <td>7</td>\n",
       "      <td>3</td>\n",
       "      <td>2</td>\n",
       "      <td>0</td>\n",
       "      <td>1</td>\n",
       "      <td>0</td>\n",
       "    </tr>\n",
       "  </tbody>\n",
       "</table>\n",
       "</div>"
      ],
      "text/plain": [
       "   TOTAL_VALUE   TAX  LOT_SQFT  GROSS_AREA  LIVING_AREA  FLOORS  ROOMS  \\\n",
       "0        344.2  4330      9965        2436         1352     2.0      6   \n",
       "1        412.6  5190      6590        3108         1976     2.0     10   \n",
       "2        330.1  4152      7500        2294         1371     2.0      8   \n",
       "3        498.6  6272     13773        5032         2608     1.0      9   \n",
       "4        331.5  4170      5000        2370         1438     2.0      7   \n",
       "\n",
       "   BEDROOMS  FULL_BATH  HALF_BATH  KITCHEN  FIREPLACE  \n",
       "0         3          1          1        1          0  \n",
       "1         4          2          1        1          0  \n",
       "2         4          1          1        1          0  \n",
       "3         5          1          1        1          1  \n",
       "4         3          2          0        1          0  "
      ]
     },
     "execution_count": 3,
     "metadata": {},
     "output_type": "execute_result"
    }
   ],
   "source": [
    "# Read the Dataset\n",
    "df = pd.read_csv('/kaggle/input/house-data/house.csv')\n",
    "df.head()"
   ]
  },
  {
   "cell_type": "code",
   "execution_count": 4,
   "id": "73d1cbdf",
   "metadata": {
    "execution": {
     "iopub.execute_input": "2022-09-23T17:03:50.064599Z",
     "iopub.status.busy": "2022-09-23T17:03:50.064145Z",
     "iopub.status.idle": "2022-09-23T17:03:50.069977Z",
     "shell.execute_reply": "2022-09-23T17:03:50.068979Z"
    },
    "papermill": {
     "duration": 0.017169,
     "end_time": "2022-09-23T17:03:50.071642",
     "exception": false,
     "start_time": "2022-09-23T17:03:50.054473",
     "status": "completed"
    },
    "tags": []
   },
   "outputs": [
    {
     "data": {
      "text/plain": [
       "Index(['total_value', 'tax', 'lot_sqft', 'gross_area', 'living_area', 'floors',\n",
       "       'rooms', 'bedrooms', 'full_bath', 'half_bath', 'kitchen', 'fireplace'],\n",
       "      dtype='object')"
      ]
     },
     "execution_count": 4,
     "metadata": {},
     "output_type": "execute_result"
    }
   ],
   "source": [
    "# Let's convert the name of the columns in smaller case\n",
    "df.columns = df.columns.str.lower()\n",
    "df.columns"
   ]
  },
  {
   "cell_type": "code",
   "execution_count": 5,
   "id": "ee56fec1",
   "metadata": {
    "execution": {
     "iopub.execute_input": "2022-09-23T17:03:50.091567Z",
     "iopub.status.busy": "2022-09-23T17:03:50.090601Z",
     "iopub.status.idle": "2022-09-23T17:03:50.113636Z",
     "shell.execute_reply": "2022-09-23T17:03:50.111987Z"
    },
    "papermill": {
     "duration": 0.035407,
     "end_time": "2022-09-23T17:03:50.115904",
     "exception": false,
     "start_time": "2022-09-23T17:03:50.080497",
     "status": "completed"
    },
    "tags": []
   },
   "outputs": [
    {
     "name": "stdout",
     "output_type": "stream",
     "text": [
      "(5802, 12)\n",
      "<class 'pandas.core.frame.DataFrame'>\n",
      "RangeIndex: 5802 entries, 0 to 5801\n",
      "Data columns (total 12 columns):\n",
      " #   Column       Non-Null Count  Dtype  \n",
      "---  ------       --------------  -----  \n",
      " 0   total_value  5802 non-null   float64\n",
      " 1   tax          5802 non-null   int64  \n",
      " 2   lot_sqft     5802 non-null   int64  \n",
      " 3   gross_area   5802 non-null   int64  \n",
      " 4   living_area  5802 non-null   int64  \n",
      " 5   floors       5802 non-null   float64\n",
      " 6   rooms        5802 non-null   int64  \n",
      " 7   bedrooms     5802 non-null   int64  \n",
      " 8   full_bath    5802 non-null   int64  \n",
      " 9   half_bath    5802 non-null   int64  \n",
      " 10  kitchen      5802 non-null   int64  \n",
      " 11  fireplace    5802 non-null   int64  \n",
      "dtypes: float64(2), int64(10)\n",
      "memory usage: 544.1 KB\n"
     ]
    }
   ],
   "source": [
    "# Summary Statistics of the Data\n",
    "print(df.shape) # There are 5802 observations\n",
    "df.info()\n",
    "\n",
    "# 10 Independent Variabels and 1 Dependent Varible: Total Value\n",
    "# There is no non-null values as well as all the data types are either float or either int"
   ]
  },
  {
   "cell_type": "code",
   "execution_count": 6,
   "id": "6df18727",
   "metadata": {
    "execution": {
     "iopub.execute_input": "2022-09-23T17:03:50.135985Z",
     "iopub.status.busy": "2022-09-23T17:03:50.135218Z",
     "iopub.status.idle": "2022-09-23T17:03:50.173720Z",
     "shell.execute_reply": "2022-09-23T17:03:50.173074Z"
    },
    "papermill": {
     "duration": 0.053928,
     "end_time": "2022-09-23T17:03:50.179150",
     "exception": false,
     "start_time": "2022-09-23T17:03:50.125222",
     "status": "completed"
    },
    "tags": []
   },
   "outputs": [
    {
     "data": {
      "text/html": [
       "<div>\n",
       "<style scoped>\n",
       "    .dataframe tbody tr th:only-of-type {\n",
       "        vertical-align: middle;\n",
       "    }\n",
       "\n",
       "    .dataframe tbody tr th {\n",
       "        vertical-align: top;\n",
       "    }\n",
       "\n",
       "    .dataframe thead th {\n",
       "        text-align: right;\n",
       "    }\n",
       "</style>\n",
       "<table border=\"1\" class=\"dataframe\">\n",
       "  <thead>\n",
       "    <tr style=\"text-align: right;\">\n",
       "      <th></th>\n",
       "      <th>total_value</th>\n",
       "      <th>tax</th>\n",
       "      <th>lot_sqft</th>\n",
       "      <th>gross_area</th>\n",
       "      <th>living_area</th>\n",
       "      <th>floors</th>\n",
       "      <th>rooms</th>\n",
       "      <th>bedrooms</th>\n",
       "      <th>full_bath</th>\n",
       "      <th>half_bath</th>\n",
       "      <th>kitchen</th>\n",
       "      <th>fireplace</th>\n",
       "    </tr>\n",
       "  </thead>\n",
       "  <tbody>\n",
       "    <tr>\n",
       "      <th>count</th>\n",
       "      <td>5802.000000</td>\n",
       "      <td>5802.000000</td>\n",
       "      <td>5802.000000</td>\n",
       "      <td>5802.000000</td>\n",
       "      <td>5802.000000</td>\n",
       "      <td>5802.000000</td>\n",
       "      <td>5802.000000</td>\n",
       "      <td>5802.000000</td>\n",
       "      <td>5802.000000</td>\n",
       "      <td>5802.000000</td>\n",
       "      <td>5802.00000</td>\n",
       "      <td>5802.000000</td>\n",
       "    </tr>\n",
       "    <tr>\n",
       "      <th>mean</th>\n",
       "      <td>392.685715</td>\n",
       "      <td>4939.485867</td>\n",
       "      <td>6278.083764</td>\n",
       "      <td>2924.842123</td>\n",
       "      <td>1657.065322</td>\n",
       "      <td>1.683730</td>\n",
       "      <td>6.994829</td>\n",
       "      <td>3.230093</td>\n",
       "      <td>1.296794</td>\n",
       "      <td>0.613926</td>\n",
       "      <td>1.01534</td>\n",
       "      <td>0.739917</td>\n",
       "    </tr>\n",
       "    <tr>\n",
       "      <th>std</th>\n",
       "      <td>99.177414</td>\n",
       "      <td>1247.649118</td>\n",
       "      <td>2669.707974</td>\n",
       "      <td>883.984726</td>\n",
       "      <td>540.456726</td>\n",
       "      <td>0.444884</td>\n",
       "      <td>1.437657</td>\n",
       "      <td>0.846607</td>\n",
       "      <td>0.522040</td>\n",
       "      <td>0.533839</td>\n",
       "      <td>0.12291</td>\n",
       "      <td>0.565108</td>\n",
       "    </tr>\n",
       "    <tr>\n",
       "      <th>min</th>\n",
       "      <td>105.000000</td>\n",
       "      <td>1320.000000</td>\n",
       "      <td>997.000000</td>\n",
       "      <td>821.000000</td>\n",
       "      <td>504.000000</td>\n",
       "      <td>1.000000</td>\n",
       "      <td>3.000000</td>\n",
       "      <td>1.000000</td>\n",
       "      <td>1.000000</td>\n",
       "      <td>0.000000</td>\n",
       "      <td>1.00000</td>\n",
       "      <td>0.000000</td>\n",
       "    </tr>\n",
       "    <tr>\n",
       "      <th>25%</th>\n",
       "      <td>325.125000</td>\n",
       "      <td>4089.500000</td>\n",
       "      <td>4772.000000</td>\n",
       "      <td>2347.000000</td>\n",
       "      <td>1308.000000</td>\n",
       "      <td>1.000000</td>\n",
       "      <td>6.000000</td>\n",
       "      <td>3.000000</td>\n",
       "      <td>1.000000</td>\n",
       "      <td>0.000000</td>\n",
       "      <td>1.00000</td>\n",
       "      <td>0.000000</td>\n",
       "    </tr>\n",
       "    <tr>\n",
       "      <th>50%</th>\n",
       "      <td>375.900000</td>\n",
       "      <td>4728.000000</td>\n",
       "      <td>5683.000000</td>\n",
       "      <td>2700.000000</td>\n",
       "      <td>1548.500000</td>\n",
       "      <td>2.000000</td>\n",
       "      <td>7.000000</td>\n",
       "      <td>3.000000</td>\n",
       "      <td>1.000000</td>\n",
       "      <td>1.000000</td>\n",
       "      <td>1.00000</td>\n",
       "      <td>1.000000</td>\n",
       "    </tr>\n",
       "    <tr>\n",
       "      <th>75%</th>\n",
       "      <td>438.775000</td>\n",
       "      <td>5519.500000</td>\n",
       "      <td>7022.250000</td>\n",
       "      <td>3239.000000</td>\n",
       "      <td>1873.750000</td>\n",
       "      <td>2.000000</td>\n",
       "      <td>8.000000</td>\n",
       "      <td>4.000000</td>\n",
       "      <td>2.000000</td>\n",
       "      <td>1.000000</td>\n",
       "      <td>1.00000</td>\n",
       "      <td>1.000000</td>\n",
       "    </tr>\n",
       "    <tr>\n",
       "      <th>max</th>\n",
       "      <td>1217.800000</td>\n",
       "      <td>15319.000000</td>\n",
       "      <td>46411.000000</td>\n",
       "      <td>8154.000000</td>\n",
       "      <td>5289.000000</td>\n",
       "      <td>3.000000</td>\n",
       "      <td>14.000000</td>\n",
       "      <td>9.000000</td>\n",
       "      <td>5.000000</td>\n",
       "      <td>3.000000</td>\n",
       "      <td>2.00000</td>\n",
       "      <td>4.000000</td>\n",
       "    </tr>\n",
       "  </tbody>\n",
       "</table>\n",
       "</div>"
      ],
      "text/plain": [
       "       total_value           tax      lot_sqft   gross_area  living_area  \\\n",
       "count  5802.000000   5802.000000   5802.000000  5802.000000  5802.000000   \n",
       "mean    392.685715   4939.485867   6278.083764  2924.842123  1657.065322   \n",
       "std      99.177414   1247.649118   2669.707974   883.984726   540.456726   \n",
       "min     105.000000   1320.000000    997.000000   821.000000   504.000000   \n",
       "25%     325.125000   4089.500000   4772.000000  2347.000000  1308.000000   \n",
       "50%     375.900000   4728.000000   5683.000000  2700.000000  1548.500000   \n",
       "75%     438.775000   5519.500000   7022.250000  3239.000000  1873.750000   \n",
       "max    1217.800000  15319.000000  46411.000000  8154.000000  5289.000000   \n",
       "\n",
       "            floors        rooms     bedrooms    full_bath    half_bath  \\\n",
       "count  5802.000000  5802.000000  5802.000000  5802.000000  5802.000000   \n",
       "mean      1.683730     6.994829     3.230093     1.296794     0.613926   \n",
       "std       0.444884     1.437657     0.846607     0.522040     0.533839   \n",
       "min       1.000000     3.000000     1.000000     1.000000     0.000000   \n",
       "25%       1.000000     6.000000     3.000000     1.000000     0.000000   \n",
       "50%       2.000000     7.000000     3.000000     1.000000     1.000000   \n",
       "75%       2.000000     8.000000     4.000000     2.000000     1.000000   \n",
       "max       3.000000    14.000000     9.000000     5.000000     3.000000   \n",
       "\n",
       "          kitchen    fireplace  \n",
       "count  5802.00000  5802.000000  \n",
       "mean      1.01534     0.739917  \n",
       "std       0.12291     0.565108  \n",
       "min       1.00000     0.000000  \n",
       "25%       1.00000     0.000000  \n",
       "50%       1.00000     1.000000  \n",
       "75%       1.00000     1.000000  \n",
       "max       2.00000     4.000000  "
      ]
     },
     "execution_count": 6,
     "metadata": {},
     "output_type": "execute_result"
    }
   ],
   "source": [
    "df.describe()\n",
    "\n",
    "# Graphs we have created in the Power BI"
   ]
  },
  {
   "cell_type": "markdown",
   "id": "cd69088e",
   "metadata": {
    "papermill": {
     "duration": 0.009085,
     "end_time": "2022-09-23T17:03:50.198247",
     "exception": false,
     "start_time": "2022-09-23T17:03:50.189162",
     "status": "completed"
    },
    "tags": []
   },
   "source": [
    "# Linear regression"
   ]
  },
  {
   "cell_type": "markdown",
   "id": "399f5683",
   "metadata": {
    "papermill": {
     "duration": 0.00882,
     "end_time": "2022-09-23T17:03:50.216180",
     "exception": false,
     "start_time": "2022-09-23T17:03:50.207360",
     "status": "completed"
    },
    "tags": []
   },
   "source": [
    "### Split the Dependent and Independent variables in the X and Y datasets"
   ]
  },
  {
   "cell_type": "code",
   "execution_count": 7,
   "id": "cfe3cd3d",
   "metadata": {
    "execution": {
     "iopub.execute_input": "2022-09-23T17:03:50.236260Z",
     "iopub.status.busy": "2022-09-23T17:03:50.235662Z",
     "iopub.status.idle": "2022-09-23T17:03:50.248485Z",
     "shell.execute_reply": "2022-09-23T17:03:50.246959Z"
    },
    "papermill": {
     "duration": 0.025485,
     "end_time": "2022-09-23T17:03:50.250724",
     "exception": false,
     "start_time": "2022-09-23T17:03:50.225239",
     "status": "completed"
    },
    "tags": []
   },
   "outputs": [
    {
     "name": "stdout",
     "output_type": "stream",
     "text": [
      "<class 'pandas.core.frame.DataFrame'>\n",
      "RangeIndex: 5802 entries, 0 to 5801\n",
      "Data columns (total 10 columns):\n",
      " #   Column       Non-Null Count  Dtype  \n",
      "---  ------       --------------  -----  \n",
      " 0   lot_sqft     5802 non-null   int64  \n",
      " 1   gross_area   5802 non-null   int64  \n",
      " 2   living_area  5802 non-null   int64  \n",
      " 3   floors       5802 non-null   float64\n",
      " 4   rooms        5802 non-null   int64  \n",
      " 5   bedrooms     5802 non-null   int64  \n",
      " 6   full_bath    5802 non-null   int64  \n",
      " 7   half_bath    5802 non-null   int64  \n",
      " 8   kitchen      5802 non-null   int64  \n",
      " 9   fireplace    5802 non-null   int64  \n",
      "dtypes: float64(1), int64(9)\n",
      "memory usage: 453.4 KB\n",
      "None (5802,)\n"
     ]
    }
   ],
   "source": [
    "x_df = df.drop(columns=['total_value', 'tax'])\n",
    "y_df = df['total_value']\n",
    "print(x_df.info(), y_df.shape)"
   ]
  },
  {
   "cell_type": "markdown",
   "id": "bcb6867a",
   "metadata": {
    "papermill": {
     "duration": 0.009223,
     "end_time": "2022-09-23T17:03:50.269517",
     "exception": false,
     "start_time": "2022-09-23T17:03:50.260294",
     "status": "completed"
    },
    "tags": []
   },
   "source": [
    "### Split the data into x-train, y-trian, x-test and y-test"
   ]
  },
  {
   "cell_type": "code",
   "execution_count": 8,
   "id": "000778bc",
   "metadata": {
    "execution": {
     "iopub.execute_input": "2022-09-23T17:03:50.290857Z",
     "iopub.status.busy": "2022-09-23T17:03:50.290275Z",
     "iopub.status.idle": "2022-09-23T17:03:50.298847Z",
     "shell.execute_reply": "2022-09-23T17:03:50.297259Z"
    },
    "papermill": {
     "duration": 0.022224,
     "end_time": "2022-09-23T17:03:50.301327",
     "exception": false,
     "start_time": "2022-09-23T17:03:50.279103",
     "status": "completed"
    },
    "tags": []
   },
   "outputs": [
    {
     "name": "stdout",
     "output_type": "stream",
     "text": [
      "(4061, 10) (1741, 10)\n"
     ]
    }
   ],
   "source": [
    "x_train, x_test, y_train, y_test = train_test_split(x_df, y_df, test_size = 0.3, random_state = 42 , shuffle= True)\n",
    "print(x_train.shape, x_test.shape)"
   ]
  },
  {
   "cell_type": "code",
   "execution_count": 9,
   "id": "a7164e34",
   "metadata": {
    "execution": {
     "iopub.execute_input": "2022-09-23T17:03:50.323593Z",
     "iopub.status.busy": "2022-09-23T17:03:50.323043Z",
     "iopub.status.idle": "2022-09-23T17:03:50.351957Z",
     "shell.execute_reply": "2022-09-23T17:03:50.350952Z"
    },
    "papermill": {
     "duration": 0.042659,
     "end_time": "2022-09-23T17:03:50.354153",
     "exception": false,
     "start_time": "2022-09-23T17:03:50.311494",
     "status": "completed"
    },
    "tags": []
   },
   "outputs": [
    {
     "data": {
      "text/plain": [
       "LinearRegression()"
      ]
     },
     "execution_count": 9,
     "metadata": {},
     "output_type": "execute_result"
    }
   ],
   "source": [
    "# Liner regression model\n",
    "model_lr = LinearRegression()\n",
    "model_lr.fit(x_train,y_train)"
   ]
  },
  {
   "cell_type": "code",
   "execution_count": 10,
   "id": "1faa0b4d",
   "metadata": {
    "execution": {
     "iopub.execute_input": "2022-09-23T17:03:50.381399Z",
     "iopub.status.busy": "2022-09-23T17:03:50.380785Z",
     "iopub.status.idle": "2022-09-23T17:03:50.392284Z",
     "shell.execute_reply": "2022-09-23T17:03:50.391496Z"
    },
    "papermill": {
     "duration": 0.028546,
     "end_time": "2022-09-23T17:03:50.395850",
     "exception": false,
     "start_time": "2022-09-23T17:03:50.367304",
     "status": "completed"
    },
    "tags": []
   },
   "outputs": [
    {
     "name": "stdout",
     "output_type": "stream",
     "text": [
      "57.50926413337015\n"
     ]
    },
    {
     "data": {
      "text/html": [
       "<div>\n",
       "<style scoped>\n",
       "    .dataframe tbody tr th:only-of-type {\n",
       "        vertical-align: middle;\n",
       "    }\n",
       "\n",
       "    .dataframe tbody tr th {\n",
       "        vertical-align: top;\n",
       "    }\n",
       "\n",
       "    .dataframe thead th {\n",
       "        text-align: right;\n",
       "    }\n",
       "</style>\n",
       "<table border=\"1\" class=\"dataframe\">\n",
       "  <thead>\n",
       "    <tr style=\"text-align: right;\">\n",
       "      <th></th>\n",
       "      <th>0</th>\n",
       "    </tr>\n",
       "  </thead>\n",
       "  <tbody>\n",
       "    <tr>\n",
       "      <th>0.008189</th>\n",
       "      <td>lot_sqft</td>\n",
       "    </tr>\n",
       "    <tr>\n",
       "      <th>0.030107</th>\n",
       "      <td>gross_area</td>\n",
       "    </tr>\n",
       "    <tr>\n",
       "      <th>0.054420</th>\n",
       "      <td>living_area</td>\n",
       "    </tr>\n",
       "    <tr>\n",
       "      <th>39.349560</th>\n",
       "      <td>floors</td>\n",
       "    </tr>\n",
       "    <tr>\n",
       "      <th>-0.005571</th>\n",
       "      <td>rooms</td>\n",
       "    </tr>\n",
       "    <tr>\n",
       "      <th>-0.438971</th>\n",
       "      <td>bedrooms</td>\n",
       "    </tr>\n",
       "    <tr>\n",
       "      <th>23.719695</th>\n",
       "      <td>full_bath</td>\n",
       "    </tr>\n",
       "    <tr>\n",
       "      <th>18.974344</th>\n",
       "      <td>half_bath</td>\n",
       "    </tr>\n",
       "    <tr>\n",
       "      <th>-16.887755</th>\n",
       "      <td>kitchen</td>\n",
       "    </tr>\n",
       "    <tr>\n",
       "      <th>20.404907</th>\n",
       "      <td>fireplace</td>\n",
       "    </tr>\n",
       "  </tbody>\n",
       "</table>\n",
       "</div>"
      ],
      "text/plain": [
       "                      0\n",
       " 0.008189      lot_sqft\n",
       " 0.030107    gross_area\n",
       " 0.054420   living_area\n",
       " 39.349560       floors\n",
       "-0.005571         rooms\n",
       "-0.438971      bedrooms\n",
       " 23.719695    full_bath\n",
       " 18.974344    half_bath\n",
       "-16.887755      kitchen\n",
       " 20.404907    fireplace"
      ]
     },
     "execution_count": 10,
     "metadata": {},
     "output_type": "execute_result"
    }
   ],
   "source": [
    "#let's find out what are the coefficients and intercept\n",
    "np.set_printoptions(precision=4, suppress=True)\n",
    "print(model_lr.intercept_)\n",
    "pd.DataFrame(x_train.columns, model_lr.coef_)"
   ]
  },
  {
   "cell_type": "code",
   "execution_count": 11,
   "id": "fd6cd7b6",
   "metadata": {
    "execution": {
     "iopub.execute_input": "2022-09-23T17:03:50.422448Z",
     "iopub.status.busy": "2022-09-23T17:03:50.422114Z",
     "iopub.status.idle": "2022-09-23T17:03:50.434708Z",
     "shell.execute_reply": "2022-09-23T17:03:50.433950Z"
    },
    "papermill": {
     "duration": 0.029779,
     "end_time": "2022-09-23T17:03:50.438234",
     "exception": false,
     "start_time": "2022-09-23T17:03:50.408455",
     "status": "completed"
    },
    "tags": []
   },
   "outputs": [],
   "source": [
    "# Predict the price of the test data\n",
    "y_train_predict = model_lr.predict(x_train)\n",
    "y_test_predict = model_lr.predict(x_test)"
   ]
  },
  {
   "cell_type": "code",
   "execution_count": 12,
   "id": "f9f23de3",
   "metadata": {
    "execution": {
     "iopub.execute_input": "2022-09-23T17:03:50.478605Z",
     "iopub.status.busy": "2022-09-23T17:03:50.478261Z",
     "iopub.status.idle": "2022-09-23T17:03:50.487434Z",
     "shell.execute_reply": "2022-09-23T17:03:50.486605Z"
    },
    "papermill": {
     "duration": 0.025471,
     "end_time": "2022-09-23T17:03:50.489763",
     "exception": false,
     "start_time": "2022-09-23T17:03:50.464292",
     "status": "completed"
    },
    "tags": []
   },
   "outputs": [
    {
     "name": "stdout",
     "output_type": "stream",
     "text": [
      "mae : 34.61784243642632\n",
      "mse : 2108.5454620739065\n"
     ]
    }
   ],
   "source": [
    "# mean absolute error\n",
    "e = y_test - y_test_predict\n",
    "mae = np.mean(np.abs(e))\n",
    "print('mae :', mae)\n",
    "\n",
    "#mean squared error\n",
    "e = y_test - y_test_predict\n",
    "mse = np.mean(e**2)\n",
    "print('mse :', mse)"
   ]
  },
  {
   "cell_type": "code",
   "execution_count": 13,
   "id": "cbbb43e1",
   "metadata": {
    "execution": {
     "iopub.execute_input": "2022-09-23T17:03:50.524424Z",
     "iopub.status.busy": "2022-09-23T17:03:50.524091Z",
     "iopub.status.idle": "2022-09-23T17:03:50.536172Z",
     "shell.execute_reply": "2022-09-23T17:03:50.535386Z"
    },
    "papermill": {
     "duration": 0.033694,
     "end_time": "2022-09-23T17:03:50.539506",
     "exception": false,
     "start_time": "2022-09-23T17:03:50.505812",
     "status": "completed"
    },
    "tags": []
   },
   "outputs": [
    {
     "name": "stdout",
     "output_type": "stream",
     "text": [
      "Train R-Square 0.8093612001229493\n",
      "Test R-Square 0.7975638139726435\n"
     ]
    }
   ],
   "source": [
    "# Lets find out the Rsqure for the model\n",
    "print('Train R-Square',model_lr.score(x_train, y_train))\n",
    "print('Test R-Square',model_lr.score(x_test, y_test))"
   ]
  },
  {
   "cell_type": "markdown",
   "id": "994c871e",
   "metadata": {
    "papermill": {
     "duration": 0.014098,
     "end_time": "2022-09-23T17:03:50.568078",
     "exception": false,
     "start_time": "2022-09-23T17:03:50.553980",
     "status": "completed"
    },
    "tags": []
   },
   "source": [
    "### **Conclusion:** Here Model has performed same pn both the training data and test data, so there is no overfitting and underfitting.But, at the same time the accuracy of the price prediction is low."
   ]
  },
  {
   "cell_type": "markdown",
   "id": "e2d8f9c6",
   "metadata": {
    "papermill": {
     "duration": 0.014119,
     "end_time": "2022-09-23T17:03:50.597065",
     "exception": false,
     "start_time": "2022-09-23T17:03:50.582946",
     "status": "completed"
    },
    "tags": []
   },
   "source": [
    "# Polynomial Regression"
   ]
  },
  {
   "cell_type": "code",
   "execution_count": 14,
   "id": "c79ea97a",
   "metadata": {
    "execution": {
     "iopub.execute_input": "2022-09-23T17:03:50.623279Z",
     "iopub.status.busy": "2022-09-23T17:03:50.622939Z",
     "iopub.status.idle": "2022-09-23T17:03:50.626957Z",
     "shell.execute_reply": "2022-09-23T17:03:50.626268Z"
    },
    "papermill": {
     "duration": 0.020651,
     "end_time": "2022-09-23T17:03:50.630130",
     "exception": false,
     "start_time": "2022-09-23T17:03:50.609479",
     "status": "completed"
    },
    "tags": []
   },
   "outputs": [],
   "source": [
    "# Create the PolynomialFeatures with degree 3 and write the Linear Regression model\n",
    "pipe_poly = PolynomialFeatures(degree = 3)\n",
    "pipe_lr = LinearRegression()"
   ]
  },
  {
   "cell_type": "code",
   "execution_count": 15,
   "id": "98f6042b",
   "metadata": {
    "execution": {
     "iopub.execute_input": "2022-09-23T17:03:50.655065Z",
     "iopub.status.busy": "2022-09-23T17:03:50.654755Z",
     "iopub.status.idle": "2022-09-23T17:03:50.823333Z",
     "shell.execute_reply": "2022-09-23T17:03:50.822400Z"
    },
    "papermill": {
     "duration": 0.184108,
     "end_time": "2022-09-23T17:03:50.826605",
     "exception": false,
     "start_time": "2022-09-23T17:03:50.642497",
     "status": "completed"
    },
    "tags": []
   },
   "outputs": [],
   "source": [
    "# Let's create the pipeline for the creating the polynomial model and regression model\n",
    "model_poly = make_pipeline(pipe_poly, pipe_lr)\n",
    "model_poly.fit(x_train, y_train)\n",
    "y_test_pred = model_poly.predict(x_test)\n"
   ]
  },
  {
   "cell_type": "markdown",
   "id": "9dbbf137",
   "metadata": {
    "papermill": {
     "duration": 0.030852,
     "end_time": "2022-09-23T17:03:50.871428",
     "exception": false,
     "start_time": "2022-09-23T17:03:50.840576",
     "status": "completed"
    },
    "tags": []
   },
   "source": [
    "#### Mean square error (MSE) and finding out the score for the model"
   ]
  },
  {
   "cell_type": "code",
   "execution_count": 16,
   "id": "e494c061",
   "metadata": {
    "execution": {
     "iopub.execute_input": "2022-09-23T17:03:50.933398Z",
     "iopub.status.busy": "2022-09-23T17:03:50.932955Z",
     "iopub.status.idle": "2022-09-23T17:03:50.962616Z",
     "shell.execute_reply": "2022-09-23T17:03:50.961830Z"
    },
    "papermill": {
     "duration": 0.060479,
     "end_time": "2022-09-23T17:03:50.964757",
     "exception": false,
     "start_time": "2022-09-23T17:03:50.904278",
     "status": "completed"
    },
    "tags": []
   },
   "outputs": [
    {
     "name": "stdout",
     "output_type": "stream",
     "text": [
      "mse:  10133.370520858649\n",
      "RSquared for Train:  0.859269720445705\n",
      "RSquared for Test:  0.027120393303253554\n"
     ]
    }
   ],
   "source": [
    "# MSE\n",
    "e = y_test - y_test_pred\n",
    "mse = np.mean(e**2)\n",
    "print('mse: ', mse)\n",
    "print('RSquared for Train: ',model_poly.score(x_train, y_train))\n",
    "print('RSquared for Test: ',model_poly.score(x_test, y_test))"
   ]
  },
  {
   "cell_type": "markdown",
   "id": "c33b40cb",
   "metadata": {
    "papermill": {
     "duration": 0.012537,
     "end_time": "2022-09-23T17:03:50.994016",
     "exception": false,
     "start_time": "2022-09-23T17:03:50.981479",
     "status": "completed"
    },
    "tags": []
   },
   "source": [
    "#### Here, we have the very high mse. If we notice the r-squared error the accuray for the train is very high - 0.8592 but for test it is vey low - 0.027. Therefore, we can conclude that there is so much overfitting is there."
   ]
  },
  {
   "cell_type": "markdown",
   "id": "d68dd26c",
   "metadata": {
    "papermill": {
     "duration": 0.012179,
     "end_time": "2022-09-23T17:03:51.020118",
     "exception": false,
     "start_time": "2022-09-23T17:03:51.007939",
     "status": "completed"
    },
    "tags": []
   },
   "source": [
    "#### Let's build the polynomial model with just one variable, which has the highest correlation with the house price\n"
   ]
  },
  {
   "cell_type": "code",
   "execution_count": 17,
   "id": "12762b80",
   "metadata": {
    "execution": {
     "iopub.execute_input": "2022-09-23T17:03:51.046616Z",
     "iopub.status.busy": "2022-09-23T17:03:51.046222Z",
     "iopub.status.idle": "2022-09-23T17:03:51.120570Z",
     "shell.execute_reply": "2022-09-23T17:03:51.119727Z"
    },
    "papermill": {
     "duration": 0.089857,
     "end_time": "2022-09-23T17:03:51.122418",
     "exception": false,
     "start_time": "2022-09-23T17:03:51.032561",
     "status": "completed"
    },
    "tags": []
   },
   "outputs": [
    {
     "data": {
      "text/html": [
       "<style type=\"text/css\">\n",
       "#T_088e1_row0_col0, #T_088e1_row1_col0 {\n",
       "  background-color: #b40426;\n",
       "  color: #f1f1f1;\n",
       "}\n",
       "#T_088e1_row2_col0 {\n",
       "  background-color: #e6d7cf;\n",
       "  color: #000000;\n",
       "}\n",
       "#T_088e1_row3_col0 {\n",
       "  background-color: #ee8669;\n",
       "  color: #f1f1f1;\n",
       "}\n",
       "#T_088e1_row4_col0 {\n",
       "  background-color: #e7745b;\n",
       "  color: #f1f1f1;\n",
       "}\n",
       "#T_088e1_row5_col0 {\n",
       "  background-color: #d5dbe5;\n",
       "  color: #000000;\n",
       "}\n",
       "#T_088e1_row6_col0 {\n",
       "  background-color: #f5c2aa;\n",
       "  color: #000000;\n",
       "}\n",
       "#T_088e1_row7_col0 {\n",
       "  background-color: #ead5c9;\n",
       "  color: #000000;\n",
       "}\n",
       "#T_088e1_row8_col0 {\n",
       "  background-color: #c7d7f0;\n",
       "  color: #000000;\n",
       "}\n",
       "#T_088e1_row9_col0 {\n",
       "  background-color: #abc8fd;\n",
       "  color: #000000;\n",
       "}\n",
       "#T_088e1_row10_col0 {\n",
       "  background-color: #3b4cc0;\n",
       "  color: #f1f1f1;\n",
       "}\n",
       "#T_088e1_row11_col0 {\n",
       "  background-color: #aec9fc;\n",
       "  color: #000000;\n",
       "}\n",
       "</style>\n",
       "<table id=\"T_088e1_\">\n",
       "  <thead>\n",
       "    <tr>\n",
       "      <th class=\"blank level0\" >&nbsp;</th>\n",
       "      <th class=\"col_heading level0 col0\" >total_value</th>\n",
       "      <th class=\"col_heading level0 col1\" >tax</th>\n",
       "      <th class=\"col_heading level0 col2\" >lot_sqft</th>\n",
       "      <th class=\"col_heading level0 col3\" >gross_area</th>\n",
       "      <th class=\"col_heading level0 col4\" >living_area</th>\n",
       "      <th class=\"col_heading level0 col5\" >floors</th>\n",
       "      <th class=\"col_heading level0 col6\" >rooms</th>\n",
       "      <th class=\"col_heading level0 col7\" >bedrooms</th>\n",
       "      <th class=\"col_heading level0 col8\" >full_bath</th>\n",
       "      <th class=\"col_heading level0 col9\" >half_bath</th>\n",
       "      <th class=\"col_heading level0 col10\" >kitchen</th>\n",
       "      <th class=\"col_heading level0 col11\" >fireplace</th>\n",
       "    </tr>\n",
       "  </thead>\n",
       "  <tbody>\n",
       "    <tr>\n",
       "      <th id=\"T_088e1_level0_row0\" class=\"row_heading level0 row0\" >total_value</th>\n",
       "      <td id=\"T_088e1_row0_col0\" class=\"data row0 col0\" >1.0</td>\n",
       "      <td id=\"T_088e1_row0_col1\" class=\"data row0 col1\" >1.0</td>\n",
       "      <td id=\"T_088e1_row0_col2\" class=\"data row0 col2\" >0.5</td>\n",
       "      <td id=\"T_088e1_row0_col3\" class=\"data row0 col3\" >0.8</td>\n",
       "      <td id=\"T_088e1_row0_col4\" class=\"data row0 col4\" >0.8</td>\n",
       "      <td id=\"T_088e1_row0_col5\" class=\"data row0 col5\" >0.5</td>\n",
       "      <td id=\"T_088e1_row0_col6\" class=\"data row0 col6\" >0.6</td>\n",
       "      <td id=\"T_088e1_row0_col7\" class=\"data row0 col7\" >0.6</td>\n",
       "      <td id=\"T_088e1_row0_col8\" class=\"data row0 col8\" >0.4</td>\n",
       "      <td id=\"T_088e1_row0_col9\" class=\"data row0 col9\" >0.3</td>\n",
       "      <td id=\"T_088e1_row0_col10\" class=\"data row0 col10\" >0.0</td>\n",
       "      <td id=\"T_088e1_row0_col11\" class=\"data row0 col11\" >0.4</td>\n",
       "    </tr>\n",
       "    <tr>\n",
       "      <th id=\"T_088e1_level0_row1\" class=\"row_heading level0 row1\" >tax</th>\n",
       "      <td id=\"T_088e1_row1_col0\" class=\"data row1 col0\" >1.0</td>\n",
       "      <td id=\"T_088e1_row1_col1\" class=\"data row1 col1\" >1.0</td>\n",
       "      <td id=\"T_088e1_row1_col2\" class=\"data row1 col2\" >0.5</td>\n",
       "      <td id=\"T_088e1_row1_col3\" class=\"data row1 col3\" >0.8</td>\n",
       "      <td id=\"T_088e1_row1_col4\" class=\"data row1 col4\" >0.8</td>\n",
       "      <td id=\"T_088e1_row1_col5\" class=\"data row1 col5\" >0.5</td>\n",
       "      <td id=\"T_088e1_row1_col6\" class=\"data row1 col6\" >0.6</td>\n",
       "      <td id=\"T_088e1_row1_col7\" class=\"data row1 col7\" >0.6</td>\n",
       "      <td id=\"T_088e1_row1_col8\" class=\"data row1 col8\" >0.4</td>\n",
       "      <td id=\"T_088e1_row1_col9\" class=\"data row1 col9\" >0.3</td>\n",
       "      <td id=\"T_088e1_row1_col10\" class=\"data row1 col10\" >0.0</td>\n",
       "      <td id=\"T_088e1_row1_col11\" class=\"data row1 col11\" >0.4</td>\n",
       "    </tr>\n",
       "    <tr>\n",
       "      <th id=\"T_088e1_level0_row2\" class=\"row_heading level0 row2\" >lot_sqft</th>\n",
       "      <td id=\"T_088e1_row2_col0\" class=\"data row2 col0\" >0.5</td>\n",
       "      <td id=\"T_088e1_row2_col1\" class=\"data row2 col1\" >0.5</td>\n",
       "      <td id=\"T_088e1_row2_col2\" class=\"data row2 col2\" >1.0</td>\n",
       "      <td id=\"T_088e1_row2_col3\" class=\"data row2 col3\" >0.4</td>\n",
       "      <td id=\"T_088e1_row2_col4\" class=\"data row2 col4\" >0.4</td>\n",
       "      <td id=\"T_088e1_row2_col5\" class=\"data row2 col5\" >0.1</td>\n",
       "      <td id=\"T_088e1_row2_col6\" class=\"data row2 col6\" >0.3</td>\n",
       "      <td id=\"T_088e1_row2_col7\" class=\"data row2 col7\" >0.3</td>\n",
       "      <td id=\"T_088e1_row2_col8\" class=\"data row2 col8\" >0.2</td>\n",
       "      <td id=\"T_088e1_row2_col9\" class=\"data row2 col9\" >0.1</td>\n",
       "      <td id=\"T_088e1_row2_col10\" class=\"data row2 col10\" >0.0</td>\n",
       "      <td id=\"T_088e1_row2_col11\" class=\"data row2 col11\" >0.2</td>\n",
       "    </tr>\n",
       "    <tr>\n",
       "      <th id=\"T_088e1_level0_row3\" class=\"row_heading level0 row3\" >gross_area</th>\n",
       "      <td id=\"T_088e1_row3_col0\" class=\"data row3 col0\" >0.8</td>\n",
       "      <td id=\"T_088e1_row3_col1\" class=\"data row3 col1\" >0.8</td>\n",
       "      <td id=\"T_088e1_row3_col2\" class=\"data row3 col2\" >0.4</td>\n",
       "      <td id=\"T_088e1_row3_col3\" class=\"data row3 col3\" >1.0</td>\n",
       "      <td id=\"T_088e1_row3_col4\" class=\"data row3 col4\" >0.9</td>\n",
       "      <td id=\"T_088e1_row3_col5\" class=\"data row3 col5\" >0.3</td>\n",
       "      <td id=\"T_088e1_row3_col6\" class=\"data row3 col6\" >0.7</td>\n",
       "      <td id=\"T_088e1_row3_col7\" class=\"data row3 col7\" >0.6</td>\n",
       "      <td id=\"T_088e1_row3_col8\" class=\"data row3 col8\" >0.4</td>\n",
       "      <td id=\"T_088e1_row3_col9\" class=\"data row3 col9\" >0.2</td>\n",
       "      <td id=\"T_088e1_row3_col10\" class=\"data row3 col10\" >0.0</td>\n",
       "      <td id=\"T_088e1_row3_col11\" class=\"data row3 col11\" >0.3</td>\n",
       "    </tr>\n",
       "    <tr>\n",
       "      <th id=\"T_088e1_level0_row4\" class=\"row_heading level0 row4\" >living_area</th>\n",
       "      <td id=\"T_088e1_row4_col0\" class=\"data row4 col0\" >0.8</td>\n",
       "      <td id=\"T_088e1_row4_col1\" class=\"data row4 col1\" >0.8</td>\n",
       "      <td id=\"T_088e1_row4_col2\" class=\"data row4 col2\" >0.4</td>\n",
       "      <td id=\"T_088e1_row4_col3\" class=\"data row4 col3\" >0.9</td>\n",
       "      <td id=\"T_088e1_row4_col4\" class=\"data row4 col4\" >1.0</td>\n",
       "      <td id=\"T_088e1_row4_col5\" class=\"data row4 col5\" >0.5</td>\n",
       "      <td id=\"T_088e1_row4_col6\" class=\"data row4 col6\" >0.7</td>\n",
       "      <td id=\"T_088e1_row4_col7\" class=\"data row4 col7\" >0.6</td>\n",
       "      <td id=\"T_088e1_row4_col8\" class=\"data row4 col8\" >0.4</td>\n",
       "      <td id=\"T_088e1_row4_col9\" class=\"data row4 col9\" >0.3</td>\n",
       "      <td id=\"T_088e1_row4_col10\" class=\"data row4 col10\" >0.1</td>\n",
       "      <td id=\"T_088e1_row4_col11\" class=\"data row4 col11\" >0.3</td>\n",
       "    </tr>\n",
       "    <tr>\n",
       "      <th id=\"T_088e1_level0_row5\" class=\"row_heading level0 row5\" >floors</th>\n",
       "      <td id=\"T_088e1_row5_col0\" class=\"data row5 col0\" >0.5</td>\n",
       "      <td id=\"T_088e1_row5_col1\" class=\"data row5 col1\" >0.5</td>\n",
       "      <td id=\"T_088e1_row5_col2\" class=\"data row5 col2\" >0.1</td>\n",
       "      <td id=\"T_088e1_row5_col3\" class=\"data row5 col3\" >0.3</td>\n",
       "      <td id=\"T_088e1_row5_col4\" class=\"data row5 col4\" >0.5</td>\n",
       "      <td id=\"T_088e1_row5_col5\" class=\"data row5 col5\" >1.0</td>\n",
       "      <td id=\"T_088e1_row5_col6\" class=\"data row5 col6\" >0.4</td>\n",
       "      <td id=\"T_088e1_row5_col7\" class=\"data row5 col7\" >0.4</td>\n",
       "      <td id=\"T_088e1_row5_col8\" class=\"data row5 col8\" >0.1</td>\n",
       "      <td id=\"T_088e1_row5_col9\" class=\"data row5 col9\" >0.3</td>\n",
       "      <td id=\"T_088e1_row5_col10\" class=\"data row5 col10\" >-0.1</td>\n",
       "      <td id=\"T_088e1_row5_col11\" class=\"data row5 col11\" >0.1</td>\n",
       "    </tr>\n",
       "    <tr>\n",
       "      <th id=\"T_088e1_level0_row6\" class=\"row_heading level0 row6\" >rooms</th>\n",
       "      <td id=\"T_088e1_row6_col0\" class=\"data row6 col0\" >0.6</td>\n",
       "      <td id=\"T_088e1_row6_col1\" class=\"data row6 col1\" >0.6</td>\n",
       "      <td id=\"T_088e1_row6_col2\" class=\"data row6 col2\" >0.3</td>\n",
       "      <td id=\"T_088e1_row6_col3\" class=\"data row6 col3\" >0.7</td>\n",
       "      <td id=\"T_088e1_row6_col4\" class=\"data row6 col4\" >0.7</td>\n",
       "      <td id=\"T_088e1_row6_col5\" class=\"data row6 col5\" >0.4</td>\n",
       "      <td id=\"T_088e1_row6_col6\" class=\"data row6 col6\" >1.0</td>\n",
       "      <td id=\"T_088e1_row6_col7\" class=\"data row6 col7\" >0.7</td>\n",
       "      <td id=\"T_088e1_row6_col8\" class=\"data row6 col8\" >0.4</td>\n",
       "      <td id=\"T_088e1_row6_col9\" class=\"data row6 col9\" >0.3</td>\n",
       "      <td id=\"T_088e1_row6_col10\" class=\"data row6 col10\" >0.1</td>\n",
       "      <td id=\"T_088e1_row6_col11\" class=\"data row6 col11\" >0.2</td>\n",
       "    </tr>\n",
       "    <tr>\n",
       "      <th id=\"T_088e1_level0_row7\" class=\"row_heading level0 row7\" >bedrooms</th>\n",
       "      <td id=\"T_088e1_row7_col0\" class=\"data row7 col0\" >0.6</td>\n",
       "      <td id=\"T_088e1_row7_col1\" class=\"data row7 col1\" >0.6</td>\n",
       "      <td id=\"T_088e1_row7_col2\" class=\"data row7 col2\" >0.3</td>\n",
       "      <td id=\"T_088e1_row7_col3\" class=\"data row7 col3\" >0.6</td>\n",
       "      <td id=\"T_088e1_row7_col4\" class=\"data row7 col4\" >0.6</td>\n",
       "      <td id=\"T_088e1_row7_col5\" class=\"data row7 col5\" >0.4</td>\n",
       "      <td id=\"T_088e1_row7_col6\" class=\"data row7 col6\" >0.7</td>\n",
       "      <td id=\"T_088e1_row7_col7\" class=\"data row7 col7\" >1.0</td>\n",
       "      <td id=\"T_088e1_row7_col8\" class=\"data row7 col8\" >0.3</td>\n",
       "      <td id=\"T_088e1_row7_col9\" class=\"data row7 col9\" >0.3</td>\n",
       "      <td id=\"T_088e1_row7_col10\" class=\"data row7 col10\" >0.1</td>\n",
       "      <td id=\"T_088e1_row7_col11\" class=\"data row7 col11\" >0.2</td>\n",
       "    </tr>\n",
       "    <tr>\n",
       "      <th id=\"T_088e1_level0_row8\" class=\"row_heading level0 row8\" >full_bath</th>\n",
       "      <td id=\"T_088e1_row8_col0\" class=\"data row8 col0\" >0.4</td>\n",
       "      <td id=\"T_088e1_row8_col1\" class=\"data row8 col1\" >0.4</td>\n",
       "      <td id=\"T_088e1_row8_col2\" class=\"data row8 col2\" >0.2</td>\n",
       "      <td id=\"T_088e1_row8_col3\" class=\"data row8 col3\" >0.4</td>\n",
       "      <td id=\"T_088e1_row8_col4\" class=\"data row8 col4\" >0.4</td>\n",
       "      <td id=\"T_088e1_row8_col5\" class=\"data row8 col5\" >0.1</td>\n",
       "      <td id=\"T_088e1_row8_col6\" class=\"data row8 col6\" >0.4</td>\n",
       "      <td id=\"T_088e1_row8_col7\" class=\"data row8 col7\" >0.3</td>\n",
       "      <td id=\"T_088e1_row8_col8\" class=\"data row8 col8\" >1.0</td>\n",
       "      <td id=\"T_088e1_row8_col9\" class=\"data row8 col9\" >-0.1</td>\n",
       "      <td id=\"T_088e1_row8_col10\" class=\"data row8 col10\" >0.1</td>\n",
       "      <td id=\"T_088e1_row8_col11\" class=\"data row8 col11\" >0.1</td>\n",
       "    </tr>\n",
       "    <tr>\n",
       "      <th id=\"T_088e1_level0_row9\" class=\"row_heading level0 row9\" >half_bath</th>\n",
       "      <td id=\"T_088e1_row9_col0\" class=\"data row9 col0\" >0.3</td>\n",
       "      <td id=\"T_088e1_row9_col1\" class=\"data row9 col1\" >0.3</td>\n",
       "      <td id=\"T_088e1_row9_col2\" class=\"data row9 col2\" >0.1</td>\n",
       "      <td id=\"T_088e1_row9_col3\" class=\"data row9 col3\" >0.2</td>\n",
       "      <td id=\"T_088e1_row9_col4\" class=\"data row9 col4\" >0.3</td>\n",
       "      <td id=\"T_088e1_row9_col5\" class=\"data row9 col5\" >0.3</td>\n",
       "      <td id=\"T_088e1_row9_col6\" class=\"data row9 col6\" >0.3</td>\n",
       "      <td id=\"T_088e1_row9_col7\" class=\"data row9 col7\" >0.3</td>\n",
       "      <td id=\"T_088e1_row9_col8\" class=\"data row9 col8\" >-0.1</td>\n",
       "      <td id=\"T_088e1_row9_col9\" class=\"data row9 col9\" >1.0</td>\n",
       "      <td id=\"T_088e1_row9_col10\" class=\"data row9 col10\" >-0.0</td>\n",
       "      <td id=\"T_088e1_row9_col11\" class=\"data row9 col11\" >0.2</td>\n",
       "    </tr>\n",
       "    <tr>\n",
       "      <th id=\"T_088e1_level0_row10\" class=\"row_heading level0 row10\" >kitchen</th>\n",
       "      <td id=\"T_088e1_row10_col0\" class=\"data row10 col0\" >0.0</td>\n",
       "      <td id=\"T_088e1_row10_col1\" class=\"data row10 col1\" >0.0</td>\n",
       "      <td id=\"T_088e1_row10_col2\" class=\"data row10 col2\" >0.0</td>\n",
       "      <td id=\"T_088e1_row10_col3\" class=\"data row10 col3\" >0.0</td>\n",
       "      <td id=\"T_088e1_row10_col4\" class=\"data row10 col4\" >0.1</td>\n",
       "      <td id=\"T_088e1_row10_col5\" class=\"data row10 col5\" >-0.1</td>\n",
       "      <td id=\"T_088e1_row10_col6\" class=\"data row10 col6\" >0.1</td>\n",
       "      <td id=\"T_088e1_row10_col7\" class=\"data row10 col7\" >0.1</td>\n",
       "      <td id=\"T_088e1_row10_col8\" class=\"data row10 col8\" >0.1</td>\n",
       "      <td id=\"T_088e1_row10_col9\" class=\"data row10 col9\" >-0.0</td>\n",
       "      <td id=\"T_088e1_row10_col10\" class=\"data row10 col10\" >1.0</td>\n",
       "      <td id=\"T_088e1_row10_col11\" class=\"data row10 col11\" >-0.0</td>\n",
       "    </tr>\n",
       "    <tr>\n",
       "      <th id=\"T_088e1_level0_row11\" class=\"row_heading level0 row11\" >fireplace</th>\n",
       "      <td id=\"T_088e1_row11_col0\" class=\"data row11 col0\" >0.4</td>\n",
       "      <td id=\"T_088e1_row11_col1\" class=\"data row11 col1\" >0.4</td>\n",
       "      <td id=\"T_088e1_row11_col2\" class=\"data row11 col2\" >0.2</td>\n",
       "      <td id=\"T_088e1_row11_col3\" class=\"data row11 col3\" >0.3</td>\n",
       "      <td id=\"T_088e1_row11_col4\" class=\"data row11 col4\" >0.3</td>\n",
       "      <td id=\"T_088e1_row11_col5\" class=\"data row11 col5\" >0.1</td>\n",
       "      <td id=\"T_088e1_row11_col6\" class=\"data row11 col6\" >0.2</td>\n",
       "      <td id=\"T_088e1_row11_col7\" class=\"data row11 col7\" >0.2</td>\n",
       "      <td id=\"T_088e1_row11_col8\" class=\"data row11 col8\" >0.1</td>\n",
       "      <td id=\"T_088e1_row11_col9\" class=\"data row11 col9\" >0.2</td>\n",
       "      <td id=\"T_088e1_row11_col10\" class=\"data row11 col10\" >-0.0</td>\n",
       "      <td id=\"T_088e1_row11_col11\" class=\"data row11 col11\" >1.0</td>\n",
       "    </tr>\n",
       "  </tbody>\n",
       "</table>\n"
      ],
      "text/plain": [
       "<pandas.io.formats.style.Styler at 0x7fccba41a490>"
      ]
     },
     "execution_count": 17,
     "metadata": {},
     "output_type": "execute_result"
    }
   ],
   "source": [
    "corr = df.corr()\n",
    "corr.style.background_gradient(cmap='coolwarm', subset = 'total_value').set_precision(1)\n",
    "# based on the plot we can conclude that the living area and gross area has very high corelation with the total_value. So, lets use one of them for the predict the price of houses."
   ]
  },
  {
   "cell_type": "code",
   "execution_count": 18,
   "id": "7556fe91",
   "metadata": {
    "execution": {
     "iopub.execute_input": "2022-09-23T17:03:51.144609Z",
     "iopub.status.busy": "2022-09-23T17:03:51.143994Z",
     "iopub.status.idle": "2022-09-23T17:03:53.405381Z",
     "shell.execute_reply": "2022-09-23T17:03:53.404304Z"
    },
    "papermill": {
     "duration": 2.274823,
     "end_time": "2022-09-23T17:03:53.407525",
     "exception": false,
     "start_time": "2022-09-23T17:03:51.132702",
     "status": "completed"
    },
    "tags": []
   },
   "outputs": [
    {
     "data": {
      "text/plain": [
       "<seaborn.axisgrid.PairGrid at 0x7fcc8d24e090>"
      ]
     },
     "execution_count": 18,
     "metadata": {},
     "output_type": "execute_result"
    },
    {
     "data": {
      "image/png": "[encoded data removed]",
      "text/plain": [
       "<Figure size 180x2160 with 13 Axes>"
      ]
     },
     "metadata": {
      "needs_background": "light"
     },
     "output_type": "display_data"
    }
   ],
   "source": [
    "sns.pairplot(df, x_vars='total_value',)\n",
    "# As you can see here, the pairplot shows the distribution of the various variables wrt. total_value"
   ]
  },
  {
   "cell_type": "code",
   "execution_count": 19,
   "id": "630220da",
   "metadata": {
    "execution": {
     "iopub.execute_input": "2022-09-23T17:03:53.431416Z",
     "iopub.status.busy": "2022-09-23T17:03:53.431089Z",
     "iopub.status.idle": "2022-09-23T17:03:53.453552Z",
     "shell.execute_reply": "2022-09-23T17:03:53.452353Z"
    },
    "papermill": {
     "duration": 0.03718,
     "end_time": "2022-09-23T17:03:53.456105",
     "exception": false,
     "start_time": "2022-09-23T17:03:53.418925",
     "status": "completed"
    },
    "tags": []
   },
   "outputs": [
    {
     "name": "stdout",
     "output_type": "stream",
     "text": [
      "RSquared for Train:  0.7039418043366613\n",
      "RSquared for Test:  0.6953457144285893\n"
     ]
    }
   ],
   "source": [
    "# let use the only variable as the living area\n",
    "one_var_train = x_train['living_area'].to_frame()\n",
    "one_var_test = x_test['living_area'].to_frame()\n",
    "pipe_poly = PolynomialFeatures(degree = 3)\n",
    "pipe_lr = LinearRegression()\n",
    "model_poly_1 = make_pipeline(pipe_poly, pipe_lr)\n",
    "model_poly_1.fit(one_var_train, y_train)\n",
    "y_test_pred = model_poly_1.predict(one_var_test)\n",
    "print('RSquared for Train: ',model_poly_1.score(one_var_train, y_train))\n",
    "print('RSquared for Test: ',model_poly_1.score(one_var_test, y_test))"
   ]
  },
  {
   "cell_type": "code",
   "execution_count": 20,
   "id": "dcfb7f6b",
   "metadata": {
    "execution": {
     "iopub.execute_input": "2022-09-23T17:03:53.487778Z",
     "iopub.status.busy": "2022-09-23T17:03:53.487359Z",
     "iopub.status.idle": "2022-09-23T17:03:53.586645Z",
     "shell.execute_reply": "2022-09-23T17:03:53.585709Z"
    },
    "papermill": {
     "duration": 0.118039,
     "end_time": "2022-09-23T17:03:53.589426",
     "exception": false,
     "start_time": "2022-09-23T17:03:53.471387",
     "status": "completed"
    },
    "tags": []
   },
   "outputs": [
    {
     "name": "stdout",
     "output_type": "stream",
     "text": [
      "RSquared for Train:  0.8482506705961026\n",
      "RSquared for Test:  0.7756324673999218\n"
     ]
    }
   ],
   "source": [
    "# let use the all the variable except the kitchen, rooms and tax \n",
    "lim_var_train = x_train[['gross_area','living_area','lot_sqft','bedrooms','floors','full_bath','half_bath','fireplace']]\n",
    "lim_var_test = x_test[['gross_area','living_area','lot_sqft','bedrooms','floors','full_bath','half_bath','fireplace']]\n",
    "pipe_poly = PolynomialFeatures(degree = 3)\n",
    "pipe_lr = LinearRegression()\n",
    "model_poly_2 = make_pipeline(pipe_poly, pipe_lr)\n",
    "model_poly_2.fit(lim_var_train, y_train)\n",
    "y_test_pred = model_poly_2.predict(lim_var_test)\n",
    "print('RSquared for Train: ',model_poly_2.score(lim_var_train, y_train))\n",
    "print('RSquared for Test: ',model_poly_2.score(lim_var_test, y_test))"
   ]
  },
  {
   "cell_type": "markdown",
   "id": "907f02ed",
   "metadata": {
    "papermill": {
     "duration": 0.035166,
     "end_time": "2022-09-23T17:03:53.642726",
     "exception": false,
     "start_time": "2022-09-23T17:03:53.607560",
     "status": "completed"
    },
    "tags": []
   },
   "source": [
    "#### Model 2 of polynomial regression is providing the very good accuracy, here the R-Squared is 80.53%"
   ]
  },
  {
   "cell_type": "markdown",
   "id": "57a9c0b9",
   "metadata": {
    "papermill": {
     "duration": 0.014913,
     "end_time": "2022-09-23T17:03:53.686791",
     "exception": false,
     "start_time": "2022-09-23T17:03:53.671878",
     "status": "completed"
    },
    "tags": []
   },
   "source": [
    "#### let's tune the polynomial regression model with the GridSearchCV hyperparameter method"
   ]
  },
  {
   "cell_type": "code",
   "execution_count": 21,
   "id": "d8c1b7c8",
   "metadata": {
    "execution": {
     "iopub.execute_input": "2022-09-23T17:03:53.714696Z",
     "iopub.status.busy": "2022-09-23T17:03:53.714362Z",
     "iopub.status.idle": "2022-09-23T17:04:00.432316Z",
     "shell.execute_reply": "2022-09-23T17:04:00.431594Z"
    },
    "papermill": {
     "duration": 6.73268,
     "end_time": "2022-09-23T17:04:00.434525",
     "exception": false,
     "start_time": "2022-09-23T17:03:53.701845",
     "status": "completed"
    },
    "tags": []
   },
   "outputs": [
    {
     "data": {
      "text/plain": [
       "GridSearchCV(cv=7,\n",
       "             estimator=Pipeline(steps=[('polynomialfeatures',\n",
       "                                        PolynomialFeatures()),\n",
       "                                       ('linearregression',\n",
       "                                        LinearRegression())]),\n",
       "             param_grid={'polynomialfeatures__degree': range(1, 6)})"
      ]
     },
     "execution_count": 21,
     "metadata": {},
     "output_type": "execute_result"
    }
   ],
   "source": [
    "degree = {'polynomialfeatures__degree' : range(1,6)}\n",
    "pipe_poly = PolynomialFeatures()\n",
    "pipe_lr = LinearRegression()\n",
    "model_poly_2 = make_pipeline(pipe_poly, pipe_lr)\n",
    "grid_search_poly = GridSearchCV(model_poly_2, param_grid=degree,cv=7)\n",
    "grid_search_poly.fit(lim_var_train, y_train)"
   ]
  },
  {
   "cell_type": "code",
   "execution_count": 22,
   "id": "b65cea4f",
   "metadata": {
    "execution": {
     "iopub.execute_input": "2022-09-23T17:04:00.467479Z",
     "iopub.status.busy": "2022-09-23T17:04:00.467113Z",
     "iopub.status.idle": "2022-09-23T17:04:00.472941Z",
     "shell.execute_reply": "2022-09-23T17:04:00.472191Z"
    },
    "papermill": {
     "duration": 0.027542,
     "end_time": "2022-09-23T17:04:00.477702",
     "exception": false,
     "start_time": "2022-09-23T17:04:00.450160",
     "status": "completed"
    },
    "tags": []
   },
   "outputs": [
    {
     "data": {
      "text/plain": [
       "0.8122035924439862"
      ]
     },
     "execution_count": 22,
     "metadata": {},
     "output_type": "execute_result"
    }
   ],
   "source": [
    "grid_search_poly.best_estimator_.named_steps\n",
    "grid_search_poly.best_params_\n",
    "grid_search_poly.best_score_"
   ]
  },
  {
   "cell_type": "code",
   "execution_count": 23,
   "id": "4849cd5f",
   "metadata": {
    "execution": {
     "iopub.execute_input": "2022-09-23T17:04:00.516600Z",
     "iopub.status.busy": "2022-09-23T17:04:00.516261Z",
     "iopub.status.idle": "2022-09-23T17:04:00.532436Z",
     "shell.execute_reply": "2022-09-23T17:04:00.531766Z"
    },
    "papermill": {
     "duration": 0.040945,
     "end_time": "2022-09-23T17:04:00.534548",
     "exception": false,
     "start_time": "2022-09-23T17:04:00.493603",
     "status": "completed"
    },
    "tags": []
   },
   "outputs": [
    {
     "data": {
      "text/plain": [
       "0.805378600109898"
      ]
     },
     "execution_count": 23,
     "metadata": {},
     "output_type": "execute_result"
    }
   ],
   "source": [
    "y_test_pred = grid_search_poly.predict(lim_var_test)\n",
    "mae = np.mean(np.abs(y_test - y_test_pred))\n",
    "mae\n",
    "grid_search_poly.score(lim_var_test, y_test)\n",
    "# So, among the degree from 1 to 7, we have the best result when the degree is 2."
   ]
  },
  {
   "cell_type": "markdown",
   "id": "f8faf177",
   "metadata": {
    "papermill": {
     "duration": 0.014618,
     "end_time": "2022-09-23T17:04:00.564504",
     "exception": false,
     "start_time": "2022-09-23T17:04:00.549886",
     "status": "completed"
    },
    "tags": []
   },
   "source": [
    "# Ridge Regression"
   ]
  },
  {
   "cell_type": "code",
   "execution_count": 24,
   "id": "e9db3ea4",
   "metadata": {
    "execution": {
     "iopub.execute_input": "2022-09-23T17:04:00.595677Z",
     "iopub.status.busy": "2022-09-23T17:04:00.595334Z",
     "iopub.status.idle": "2022-09-23T17:04:00.609551Z",
     "shell.execute_reply": "2022-09-23T17:04:00.608680Z"
    },
    "papermill": {
     "duration": 0.03203,
     "end_time": "2022-09-23T17:04:00.611453",
     "exception": false,
     "start_time": "2022-09-23T17:04:00.579423",
     "status": "completed"
    },
    "tags": []
   },
   "outputs": [
    {
     "data": {
      "text/plain": [
       "(array([  0.0082,   0.0301,   0.0545,  39.2904,  -0.0041,  -0.4305,\n",
       "         23.6719,  18.9538, -16.6542,  20.3932]),\n",
       " 57.361695613221)"
      ]
     },
     "execution_count": 24,
     "metadata": {},
     "output_type": "execute_result"
    }
   ],
   "source": [
    "# Lets write the code for the Ridge Regression  - Rememebr Ridge Regression uses the L2 panelty mothod\n",
    "base_ridge = Ridge(alpha = 1)\n",
    "base_ridge.fit(x_train, y_train)\n",
    "base_ridge.coef_, base_ridge.intercept_"
   ]
  },
  {
   "cell_type": "markdown",
   "id": "d3d01361",
   "metadata": {
    "papermill": {
     "duration": 0.01508,
     "end_time": "2022-09-23T17:04:00.641960",
     "exception": false,
     "start_time": "2022-09-23T17:04:00.626880",
     "status": "completed"
    },
    "tags": []
   },
   "source": [
    "# Lets tune this model using the Grid Search CV method to find the best score possible"
   ]
  },
  {
   "cell_type": "code",
   "execution_count": 25,
   "id": "df015dcb",
   "metadata": {
    "execution": {
     "iopub.execute_input": "2022-09-23T17:04:00.673910Z",
     "iopub.status.busy": "2022-09-23T17:04:00.673482Z",
     "iopub.status.idle": "2022-09-23T17:04:00.684128Z",
     "shell.execute_reply": "2022-09-23T17:04:00.683393Z"
    },
    "papermill": {
     "duration": 0.028914,
     "end_time": "2022-09-23T17:04:00.685991",
     "exception": false,
     "start_time": "2022-09-23T17:04:00.657077",
     "status": "completed"
    },
    "tags": []
   },
   "outputs": [
    {
     "name": "stdout",
     "output_type": "stream",
     "text": [
      "RSquared for Train:  0.8093609950999551\n",
      "RSquared for Test:  0.7975651591119322\n"
     ]
    }
   ],
   "source": [
    "print('RSquared for Train: ',base_ridge.score(x_train, y_train))\n",
    "print('RSquared for Test: ',base_ridge.score(x_test, y_test))"
   ]
  },
  {
   "cell_type": "markdown",
   "id": "5ef9e020",
   "metadata": {
    "papermill": {
     "duration": 0.016739,
     "end_time": "2022-09-23T17:04:00.718800",
     "exception": false,
     "start_time": "2022-09-23T17:04:00.702061",
     "status": "completed"
    },
    "tags": []
   },
   "source": [
    "#### Lets tune this model using the Grid Search CV method to find the best score possible"
   ]
  },
  {
   "cell_type": "code",
   "execution_count": 26,
   "id": "183f4a2e",
   "metadata": {
    "execution": {
     "iopub.execute_input": "2022-09-23T17:04:00.752587Z",
     "iopub.status.busy": "2022-09-23T17:04:00.752202Z",
     "iopub.status.idle": "2022-09-23T17:04:01.460216Z",
     "shell.execute_reply": "2022-09-23T17:04:01.459490Z"
    },
    "papermill": {
     "duration": 0.727183,
     "end_time": "2022-09-23T17:04:01.462144",
     "exception": false,
     "start_time": "2022-09-23T17:04:00.734961",
     "status": "completed"
    },
    "tags": []
   },
   "outputs": [
    {
     "data": {
      "text/plain": [
       "GridSearchCV(cv=7, estimator=Ridge(), param_grid={'alpha': range(1, 100, 5)})"
      ]
     },
     "execution_count": 26,
     "metadata": {},
     "output_type": "execute_result"
    }
   ],
   "source": [
    "# We will use the gridsearchCV for the finding the best value of alpha\n",
    "ridge_params = { 'alpha'  : range(1,100,5) }\n",
    "my_ridge = Ridge() \n",
    "grid_ridge_cv = GridSearchCV(my_ridge, ridge_params, cv = 7)\n",
    "grid_ridge_cv.fit(x_train, y_train)\n"
   ]
  },
  {
   "cell_type": "code",
   "execution_count": 27,
   "id": "fd60c899",
   "metadata": {
    "execution": {
     "iopub.execute_input": "2022-09-23T17:04:01.495690Z",
     "iopub.status.busy": "2022-09-23T17:04:01.494981Z",
     "iopub.status.idle": "2022-09-23T17:04:01.504138Z",
     "shell.execute_reply": "2022-09-23T17:04:01.503346Z"
    },
    "papermill": {
     "duration": 0.028499,
     "end_time": "2022-09-23T17:04:01.506536",
     "exception": false,
     "start_time": "2022-09-23T17:04:01.478037",
     "status": "completed"
    },
    "tags": []
   },
   "outputs": [
    {
     "name": "stdout",
     "output_type": "stream",
     "text": [
      "Ridge(alpha=6)\n",
      "R Square for the test data: 0.7975661707461978\n"
     ]
    }
   ],
   "source": [
    "# lets findout the best hyperparameters\n",
    "print(grid_ridge_cv.best_estimator_)  # we have the best r-square when the alpha is 6\n",
    "grid_ridge_cv.best_score_\n",
    "print('R Square for the test data:',  grid_ridge_cv.score(x_test,y_test))"
   ]
  },
  {
   "cell_type": "markdown",
   "id": "97255092",
   "metadata": {
    "papermill": {
     "duration": 0.016366,
     "end_time": "2022-09-23T17:04:01.539597",
     "exception": false,
     "start_time": "2022-09-23T17:04:01.523231",
     "status": "completed"
    },
    "tags": []
   },
   "source": [
    "# Lasso Regression"
   ]
  },
  {
   "cell_type": "code",
   "execution_count": 28,
   "id": "19e66ea1",
   "metadata": {
    "execution": {
     "iopub.execute_input": "2022-09-23T17:04:01.573964Z",
     "iopub.status.busy": "2022-09-23T17:04:01.573576Z",
     "iopub.status.idle": "2022-09-23T17:04:01.592568Z",
     "shell.execute_reply": "2022-09-23T17:04:01.591748Z"
    },
    "papermill": {
     "duration": 0.038754,
     "end_time": "2022-09-23T17:04:01.595021",
     "exception": false,
     "start_time": "2022-09-23T17:04:01.556267",
     "status": "completed"
    },
    "tags": []
   },
   "outputs": [
    {
     "data": {
      "text/plain": [
       "(array([ 0.0082,  0.0288,  0.0631, 33.2654,  0.    ,  0.    , 16.4728,\n",
       "        14.3411, -0.    , 17.8138]),\n",
       " 52.76171101027779)"
      ]
     },
     "execution_count": 28,
     "metadata": {},
     "output_type": "execute_result"
    }
   ],
   "source": [
    "#lets findout the accuracy we can get using the Lasso regression\n",
    "base_lasso = Lasso(alpha = 1)\n",
    "base_lasso.fit(x_train, y_train)\n",
    "base_lasso.coef_, base_lasso.intercept_"
   ]
  },
  {
   "cell_type": "code",
   "execution_count": 29,
   "id": "644fb1b7",
   "metadata": {
    "execution": {
     "iopub.execute_input": "2022-09-23T17:04:01.631510Z",
     "iopub.status.busy": "2022-09-23T17:04:01.631137Z",
     "iopub.status.idle": "2022-09-23T17:04:02.104471Z",
     "shell.execute_reply": "2022-09-23T17:04:02.103752Z"
    },
    "papermill": {
     "duration": 0.494027,
     "end_time": "2022-09-23T17:04:02.106816",
     "exception": false,
     "start_time": "2022-09-23T17:04:01.612789",
     "status": "completed"
    },
    "tags": []
   },
   "outputs": [
    {
     "data": {
      "text/plain": [
       "GridSearchCV(cv=7, estimator=Lasso(),\n",
       "             param_grid={'alpha': [1e-06, 1e-05, 0.0001, 0.001, 0.01, 0.1, 1,\n",
       "                                   10]})"
      ]
     },
     "execution_count": 29,
     "metadata": {},
     "output_type": "execute_result"
    }
   ],
   "source": [
    "lasso_params = { 'alpha'  : [0.000001,0.00001, 0.0001, 0.001, 0.01, 0.1, 1, 10]  }\n",
    "my_lasso = Lasso() \n",
    "grid_lasso_cv = GridSearchCV(my_lasso, lasso_params, cv = 7)\n",
    "grid_lasso_cv.fit(x_train, y_train)"
   ]
  },
  {
   "cell_type": "code",
   "execution_count": 30,
   "id": "5cc6334c",
   "metadata": {
    "execution": {
     "iopub.execute_input": "2022-09-23T17:04:02.141388Z",
     "iopub.status.busy": "2022-09-23T17:04:02.141034Z",
     "iopub.status.idle": "2022-09-23T17:04:02.145787Z",
     "shell.execute_reply": "2022-09-23T17:04:02.145053Z"
    },
    "papermill": {
     "duration": 0.026945,
     "end_time": "2022-09-23T17:04:02.150552",
     "exception": false,
     "start_time": "2022-09-23T17:04:02.123607",
     "status": "completed"
    },
    "tags": []
   },
   "outputs": [
    {
     "name": "stdout",
     "output_type": "stream",
     "text": [
      "Best Alpha:  Lasso(alpha=0.01)\n"
     ]
    }
   ],
   "source": [
    "#best alpha for Lasso\n",
    "print('Best Alpha: ', grid_lasso_cv.best_estimator_)"
   ]
  },
  {
   "cell_type": "code",
   "execution_count": 31,
   "id": "d4877a46",
   "metadata": {
    "execution": {
     "iopub.execute_input": "2022-09-23T17:04:02.185138Z",
     "iopub.status.busy": "2022-09-23T17:04:02.184756Z",
     "iopub.status.idle": "2022-09-23T17:04:02.200443Z",
     "shell.execute_reply": "2022-09-23T17:04:02.199651Z"
    },
    "papermill": {
     "duration": 0.035946,
     "end_time": "2022-09-23T17:04:02.202921",
     "exception": false,
     "start_time": "2022-09-23T17:04:02.166975",
     "status": "completed"
    },
    "tags": []
   },
   "outputs": [
    {
     "data": {
      "text/plain": [
       "2108.484754498281"
      ]
     },
     "execution_count": 31,
     "metadata": {},
     "output_type": "execute_result"
    }
   ],
   "source": [
    "# Predict the score when the alpha is 0.01\n",
    "grid_lasso_cv.score(x_test, y_test) #again the best R Square is 0.79\n",
    "#lets find the mse for the same\n",
    "y_test_pred = grid_lasso_cv.predict(x_test)\n",
    "e = y_test - y_test_pred\n",
    "mse = np.mean(np.abs(e)**2)\n",
    "mse"
   ]
  },
  {
   "cell_type": "markdown",
   "id": "3302446d",
   "metadata": {
    "papermill": {
     "duration": 0.016855,
     "end_time": "2022-09-23T17:04:02.237406",
     "exception": false,
     "start_time": "2022-09-23T17:04:02.220551",
     "status": "completed"
    },
    "tags": []
   },
   "source": [
    "## Final Conclusion: After all the model, we can say that polynomial regression with the degree 2 has the best predictive power. For this model, we have received the r-square = 80.53. "
   ]
  }
 ],
 "metadata": {
  "kernelspec": {
   "display_name": "Python 3",
   "language": "python",
   "name": "python3"
  },
  "language_info": {
   "codemirror_mode": {
    "name": "ipython",
    "version": 3
   },
   "file_extension": ".py",
   "mimetype": "text/x-python",
   "name": "python",
   "nbconvert_exporter": "python",
   "pygments_lexer": "ipython3",
   "version": "3.7.12"
  },
  "papermill": {
   "default_parameters": {},
   "duration": 21.600116,
   "end_time": "2022-09-23T17:04:02.974584",
   "environment_variables": {},
   "exception": null,
   "input_path": "__notebook__.ipynb",
   "output_path": "__notebook__.ipynb",
   "parameters": {},
   "start_time": "2022-09-23T17:03:41.374468",
   "version": "2.3.4"
  }
 },
 "nbformat": 4,
 "nbformat_minor": 5
}
