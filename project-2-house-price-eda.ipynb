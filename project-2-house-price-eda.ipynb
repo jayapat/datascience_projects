{
 "cells": [
  {
   "cell_type": "code",
   "execution_count": 1,
   "id": "af39d8e1",
   "metadata": {
    "_cell_guid": "b1076dfc-b9ad-4769-8c92-a6c4dae69d19",
    "_uuid": "8f2839f25d086af736a60e9eeb907d3b93b6e0e5",
    "execution": {
     "iopub.execute_input": "2022-09-07T18:55:26.394664Z",
     "iopub.status.busy": "2022-09-07T18:55:26.394051Z",
     "iopub.status.idle": "2022-09-07T18:55:26.424776Z",
     "shell.execute_reply": "2022-09-07T18:55:26.423192Z"
    },
    "papermill": {
     "duration": 0.044732,
     "end_time": "2022-09-07T18:55:26.429836",
     "exception": false,
     "start_time": "2022-09-07T18:55:26.385104",
     "status": "completed"
    },
    "tags": []
   },
   "outputs": [
    {
     "name": "stdout",
     "output_type": "stream",
     "text": [
      "/kaggle/input/regression-technique-eda/House Price Regression Tecnique/sample_submission.csv\n",
      "/kaggle/input/regression-technique-eda/House Price Regression Tecnique/data_description.txt\n",
      "/kaggle/input/regression-technique-eda/House Price Regression Tecnique/train.csv\n",
      "/kaggle/input/regression-technique-eda/House Price Regression Tecnique/Project On House Price data .ipynb\n",
      "/kaggle/input/regression-technique-eda/House Price Regression Tecnique/test.csv\n"
     ]
    }
   ],
   "source": [
    "# This Python 3 environment comes with many helpful analytics libraries installed\n",
    "# It is defined by the kaggle/python Docker image: https://github.com/kaggle/docker-python\n",
    "# For example, here's several helpful packages to load\n",
    "\n",
    "import numpy as np # linear algebra\n",
    "import pandas as pd # data processing, CSV file I/O (e.g. pd.read_csv)\n",
    "\n",
    "# Input data files are available in the read-only \"../input/\" directory\n",
    "# For example, running this (by clicking run or pressing Shift+Enter) will list all files under the input directory\n",
    "\n",
    "import os\n",
    "for dirname, _, filenames in os.walk('/kaggle/input'):\n",
    "    for filename in filenames:\n",
    "        print(os.path.join(dirname, filename))\n",
    "\n",
    "# You can write up to 20GB to the current directory (/kaggle/working/) that gets preserved as output when you create a version using \"Save & Run All\" \n",
    "# You can also write temporary files to /kaggle/temp/, but they won't be saved outside of the current session\n",
    "import matplotlib.pyplot as plt\n",
    "%matplotlib inline\n"
   ]
  },
  {
   "cell_type": "code",
   "execution_count": 2,
   "id": "fd7567d4",
   "metadata": {
    "execution": {
     "iopub.execute_input": "2022-09-07T18:55:26.444925Z",
     "iopub.status.busy": "2022-09-07T18:55:26.444150Z",
     "iopub.status.idle": "2022-09-07T18:55:26.530102Z",
     "shell.execute_reply": "2022-09-07T18:55:26.529182Z"
    },
    "papermill": {
     "duration": 0.0959,
     "end_time": "2022-09-07T18:55:26.532421",
     "exception": false,
     "start_time": "2022-09-07T18:55:26.436521",
     "status": "completed"
    },
    "tags": []
   },
   "outputs": [
    {
     "data": {
      "text/html": [
       "<div>\n",
       "<style scoped>\n",
       "    .dataframe tbody tr th:only-of-type {\n",
       "        vertical-align: middle;\n",
       "    }\n",
       "\n",
       "    .dataframe tbody tr th {\n",
       "        vertical-align: top;\n",
       "    }\n",
       "\n",
       "    .dataframe thead th {\n",
       "        text-align: right;\n",
       "    }\n",
       "</style>\n",
       "<table border=\"1\" class=\"dataframe\">\n",
       "  <thead>\n",
       "    <tr style=\"text-align: right;\">\n",
       "      <th></th>\n",
       "      <th>Id</th>\n",
       "      <th>MSSubClass</th>\n",
       "      <th>MSZoning</th>\n",
       "      <th>LotFrontage</th>\n",
       "      <th>LotArea</th>\n",
       "      <th>Street</th>\n",
       "      <th>Alley</th>\n",
       "      <th>LotShape</th>\n",
       "      <th>LandContour</th>\n",
       "      <th>Utilities</th>\n",
       "      <th>...</th>\n",
       "      <th>PoolArea</th>\n",
       "      <th>PoolQC</th>\n",
       "      <th>Fence</th>\n",
       "      <th>MiscFeature</th>\n",
       "      <th>MiscVal</th>\n",
       "      <th>MoSold</th>\n",
       "      <th>YrSold</th>\n",
       "      <th>SaleType</th>\n",
       "      <th>SaleCondition</th>\n",
       "      <th>SalePrice</th>\n",
       "    </tr>\n",
       "  </thead>\n",
       "  <tbody>\n",
       "    <tr>\n",
       "      <th>0</th>\n",
       "      <td>1</td>\n",
       "      <td>60</td>\n",
       "      <td>RL</td>\n",
       "      <td>65.0</td>\n",
       "      <td>8450</td>\n",
       "      <td>Pave</td>\n",
       "      <td>NaN</td>\n",
       "      <td>Reg</td>\n",
       "      <td>Lvl</td>\n",
       "      <td>AllPub</td>\n",
       "      <td>...</td>\n",
       "      <td>0</td>\n",
       "      <td>NaN</td>\n",
       "      <td>NaN</td>\n",
       "      <td>NaN</td>\n",
       "      <td>0</td>\n",
       "      <td>2</td>\n",
       "      <td>2008</td>\n",
       "      <td>WD</td>\n",
       "      <td>Normal</td>\n",
       "      <td>208500</td>\n",
       "    </tr>\n",
       "    <tr>\n",
       "      <th>1</th>\n",
       "      <td>2</td>\n",
       "      <td>20</td>\n",
       "      <td>RL</td>\n",
       "      <td>80.0</td>\n",
       "      <td>9600</td>\n",
       "      <td>Pave</td>\n",
       "      <td>NaN</td>\n",
       "      <td>Reg</td>\n",
       "      <td>Lvl</td>\n",
       "      <td>AllPub</td>\n",
       "      <td>...</td>\n",
       "      <td>0</td>\n",
       "      <td>NaN</td>\n",
       "      <td>NaN</td>\n",
       "      <td>NaN</td>\n",
       "      <td>0</td>\n",
       "      <td>5</td>\n",
       "      <td>2007</td>\n",
       "      <td>WD</td>\n",
       "      <td>Normal</td>\n",
       "      <td>181500</td>\n",
       "    </tr>\n",
       "    <tr>\n",
       "      <th>2</th>\n",
       "      <td>3</td>\n",
       "      <td>60</td>\n",
       "      <td>RL</td>\n",
       "      <td>68.0</td>\n",
       "      <td>11250</td>\n",
       "      <td>Pave</td>\n",
       "      <td>NaN</td>\n",
       "      <td>IR1</td>\n",
       "      <td>Lvl</td>\n",
       "      <td>AllPub</td>\n",
       "      <td>...</td>\n",
       "      <td>0</td>\n",
       "      <td>NaN</td>\n",
       "      <td>NaN</td>\n",
       "      <td>NaN</td>\n",
       "      <td>0</td>\n",
       "      <td>9</td>\n",
       "      <td>2008</td>\n",
       "      <td>WD</td>\n",
       "      <td>Normal</td>\n",
       "      <td>223500</td>\n",
       "    </tr>\n",
       "    <tr>\n",
       "      <th>3</th>\n",
       "      <td>4</td>\n",
       "      <td>70</td>\n",
       "      <td>RL</td>\n",
       "      <td>60.0</td>\n",
       "      <td>9550</td>\n",
       "      <td>Pave</td>\n",
       "      <td>NaN</td>\n",
       "      <td>IR1</td>\n",
       "      <td>Lvl</td>\n",
       "      <td>AllPub</td>\n",
       "      <td>...</td>\n",
       "      <td>0</td>\n",
       "      <td>NaN</td>\n",
       "      <td>NaN</td>\n",
       "      <td>NaN</td>\n",
       "      <td>0</td>\n",
       "      <td>2</td>\n",
       "      <td>2006</td>\n",
       "      <td>WD</td>\n",
       "      <td>Abnorml</td>\n",
       "      <td>140000</td>\n",
       "    </tr>\n",
       "    <tr>\n",
       "      <th>4</th>\n",
       "      <td>5</td>\n",
       "      <td>60</td>\n",
       "      <td>RL</td>\n",
       "      <td>84.0</td>\n",
       "      <td>14260</td>\n",
       "      <td>Pave</td>\n",
       "      <td>NaN</td>\n",
       "      <td>IR1</td>\n",
       "      <td>Lvl</td>\n",
       "      <td>AllPub</td>\n",
       "      <td>...</td>\n",
       "      <td>0</td>\n",
       "      <td>NaN</td>\n",
       "      <td>NaN</td>\n",
       "      <td>NaN</td>\n",
       "      <td>0</td>\n",
       "      <td>12</td>\n",
       "      <td>2008</td>\n",
       "      <td>WD</td>\n",
       "      <td>Normal</td>\n",
       "      <td>250000</td>\n",
       "    </tr>\n",
       "    <tr>\n",
       "      <th>5</th>\n",
       "      <td>6</td>\n",
       "      <td>50</td>\n",
       "      <td>RL</td>\n",
       "      <td>85.0</td>\n",
       "      <td>14115</td>\n",
       "      <td>Pave</td>\n",
       "      <td>NaN</td>\n",
       "      <td>IR1</td>\n",
       "      <td>Lvl</td>\n",
       "      <td>AllPub</td>\n",
       "      <td>...</td>\n",
       "      <td>0</td>\n",
       "      <td>NaN</td>\n",
       "      <td>MnPrv</td>\n",
       "      <td>Shed</td>\n",
       "      <td>700</td>\n",
       "      <td>10</td>\n",
       "      <td>2009</td>\n",
       "      <td>WD</td>\n",
       "      <td>Normal</td>\n",
       "      <td>143000</td>\n",
       "    </tr>\n",
       "    <tr>\n",
       "      <th>6</th>\n",
       "      <td>7</td>\n",
       "      <td>20</td>\n",
       "      <td>RL</td>\n",
       "      <td>75.0</td>\n",
       "      <td>10084</td>\n",
       "      <td>Pave</td>\n",
       "      <td>NaN</td>\n",
       "      <td>Reg</td>\n",
       "      <td>Lvl</td>\n",
       "      <td>AllPub</td>\n",
       "      <td>...</td>\n",
       "      <td>0</td>\n",
       "      <td>NaN</td>\n",
       "      <td>NaN</td>\n",
       "      <td>NaN</td>\n",
       "      <td>0</td>\n",
       "      <td>8</td>\n",
       "      <td>2007</td>\n",
       "      <td>WD</td>\n",
       "      <td>Normal</td>\n",
       "      <td>307000</td>\n",
       "    </tr>\n",
       "    <tr>\n",
       "      <th>7</th>\n",
       "      <td>8</td>\n",
       "      <td>60</td>\n",
       "      <td>RL</td>\n",
       "      <td>NaN</td>\n",
       "      <td>10382</td>\n",
       "      <td>Pave</td>\n",
       "      <td>NaN</td>\n",
       "      <td>IR1</td>\n",
       "      <td>Lvl</td>\n",
       "      <td>AllPub</td>\n",
       "      <td>...</td>\n",
       "      <td>0</td>\n",
       "      <td>NaN</td>\n",
       "      <td>NaN</td>\n",
       "      <td>Shed</td>\n",
       "      <td>350</td>\n",
       "      <td>11</td>\n",
       "      <td>2009</td>\n",
       "      <td>WD</td>\n",
       "      <td>Normal</td>\n",
       "      <td>200000</td>\n",
       "    </tr>\n",
       "    <tr>\n",
       "      <th>8</th>\n",
       "      <td>9</td>\n",
       "      <td>50</td>\n",
       "      <td>RM</td>\n",
       "      <td>51.0</td>\n",
       "      <td>6120</td>\n",
       "      <td>Pave</td>\n",
       "      <td>NaN</td>\n",
       "      <td>Reg</td>\n",
       "      <td>Lvl</td>\n",
       "      <td>AllPub</td>\n",
       "      <td>...</td>\n",
       "      <td>0</td>\n",
       "      <td>NaN</td>\n",
       "      <td>NaN</td>\n",
       "      <td>NaN</td>\n",
       "      <td>0</td>\n",
       "      <td>4</td>\n",
       "      <td>2008</td>\n",
       "      <td>WD</td>\n",
       "      <td>Abnorml</td>\n",
       "      <td>129900</td>\n",
       "    </tr>\n",
       "    <tr>\n",
       "      <th>9</th>\n",
       "      <td>10</td>\n",
       "      <td>190</td>\n",
       "      <td>RL</td>\n",
       "      <td>50.0</td>\n",
       "      <td>7420</td>\n",
       "      <td>Pave</td>\n",
       "      <td>NaN</td>\n",
       "      <td>Reg</td>\n",
       "      <td>Lvl</td>\n",
       "      <td>AllPub</td>\n",
       "      <td>...</td>\n",
       "      <td>0</td>\n",
       "      <td>NaN</td>\n",
       "      <td>NaN</td>\n",
       "      <td>NaN</td>\n",
       "      <td>0</td>\n",
       "      <td>1</td>\n",
       "      <td>2008</td>\n",
       "      <td>WD</td>\n",
       "      <td>Normal</td>\n",
       "      <td>118000</td>\n",
       "    </tr>\n",
       "  </tbody>\n",
       "</table>\n",
       "<p>10 rows × 81 columns</p>\n",
       "</div>"
      ],
      "text/plain": [
       "   Id  MSSubClass MSZoning  LotFrontage  LotArea Street Alley LotShape  \\\n",
       "0   1          60       RL         65.0     8450   Pave   NaN      Reg   \n",
       "1   2          20       RL         80.0     9600   Pave   NaN      Reg   \n",
       "2   3          60       RL         68.0    11250   Pave   NaN      IR1   \n",
       "3   4          70       RL         60.0     9550   Pave   NaN      IR1   \n",
       "4   5          60       RL         84.0    14260   Pave   NaN      IR1   \n",
       "5   6          50       RL         85.0    14115   Pave   NaN      IR1   \n",
       "6   7          20       RL         75.0    10084   Pave   NaN      Reg   \n",
       "7   8          60       RL          NaN    10382   Pave   NaN      IR1   \n",
       "8   9          50       RM         51.0     6120   Pave   NaN      Reg   \n",
       "9  10         190       RL         50.0     7420   Pave   NaN      Reg   \n",
       "\n",
       "  LandContour Utilities  ... PoolArea PoolQC  Fence MiscFeature MiscVal  \\\n",
       "0         Lvl    AllPub  ...        0    NaN    NaN         NaN       0   \n",
       "1         Lvl    AllPub  ...        0    NaN    NaN         NaN       0   \n",
       "2         Lvl    AllPub  ...        0    NaN    NaN         NaN       0   \n",
       "3         Lvl    AllPub  ...        0    NaN    NaN         NaN       0   \n",
       "4         Lvl    AllPub  ...        0    NaN    NaN         NaN       0   \n",
       "5         Lvl    AllPub  ...        0    NaN  MnPrv        Shed     700   \n",
       "6         Lvl    AllPub  ...        0    NaN    NaN         NaN       0   \n",
       "7         Lvl    AllPub  ...        0    NaN    NaN        Shed     350   \n",
       "8         Lvl    AllPub  ...        0    NaN    NaN         NaN       0   \n",
       "9         Lvl    AllPub  ...        0    NaN    NaN         NaN       0   \n",
       "\n",
       "  MoSold YrSold  SaleType  SaleCondition  SalePrice  \n",
       "0      2   2008        WD         Normal     208500  \n",
       "1      5   2007        WD         Normal     181500  \n",
       "2      9   2008        WD         Normal     223500  \n",
       "3      2   2006        WD        Abnorml     140000  \n",
       "4     12   2008        WD         Normal     250000  \n",
       "5     10   2009        WD         Normal     143000  \n",
       "6      8   2007        WD         Normal     307000  \n",
       "7     11   2009        WD         Normal     200000  \n",
       "8      4   2008        WD        Abnorml     129900  \n",
       "9      1   2008        WD         Normal     118000  \n",
       "\n",
       "[10 rows x 81 columns]"
      ]
     },
     "execution_count": 2,
     "metadata": {},
     "output_type": "execute_result"
    }
   ],
   "source": [
    "train_df = pd.read_csv('/kaggle/input/regression-technique-eda/House Price Regression Tecnique/train.csv')\n",
    "train_df.head(10)\n",
    "# this is to read the number of the first five rows"
   ]
  },
  {
   "cell_type": "code",
   "execution_count": 3,
   "id": "e0fb98e0",
   "metadata": {
    "execution": {
     "iopub.execute_input": "2022-09-07T18:55:26.547583Z",
     "iopub.status.busy": "2022-09-07T18:55:26.546853Z",
     "iopub.status.idle": "2022-09-07T18:55:26.552627Z",
     "shell.execute_reply": "2022-09-07T18:55:26.551283Z"
    },
    "papermill": {
     "duration": 0.016056,
     "end_time": "2022-09-07T18:55:26.554994",
     "exception": false,
     "start_time": "2022-09-07T18:55:26.538938",
     "status": "completed"
    },
    "tags": []
   },
   "outputs": [],
   "source": [
    "train_df.columns  = train_df.columns.str.lower()\n",
    "# we are converting all the columns in the lowercase"
   ]
  },
  {
   "cell_type": "code",
   "execution_count": 4,
   "id": "2d1af213",
   "metadata": {
    "execution": {
     "iopub.execute_input": "2022-09-07T18:55:26.570519Z",
     "iopub.status.busy": "2022-09-07T18:55:26.569252Z",
     "iopub.status.idle": "2022-09-07T18:55:26.576229Z",
     "shell.execute_reply": "2022-09-07T18:55:26.575272Z"
    },
    "papermill": {
     "duration": 0.017201,
     "end_time": "2022-09-07T18:55:26.578644",
     "exception": false,
     "start_time": "2022-09-07T18:55:26.561443",
     "status": "completed"
    },
    "tags": []
   },
   "outputs": [
    {
     "data": {
      "text/plain": [
       "(1460, 81)"
      ]
     },
     "execution_count": 4,
     "metadata": {},
     "output_type": "execute_result"
    }
   ],
   "source": [
    "train_df.shape"
   ]
  },
  {
   "cell_type": "code",
   "execution_count": 5,
   "id": "7b673d95",
   "metadata": {
    "execution": {
     "iopub.execute_input": "2022-09-07T18:55:26.593733Z",
     "iopub.status.busy": "2022-09-07T18:55:26.593039Z",
     "iopub.status.idle": "2022-09-07T18:55:26.628536Z",
     "shell.execute_reply": "2022-09-07T18:55:26.627377Z"
    },
    "papermill": {
     "duration": 0.04599,
     "end_time": "2022-09-07T18:55:26.631085",
     "exception": false,
     "start_time": "2022-09-07T18:55:26.585095",
     "status": "completed"
    },
    "tags": []
   },
   "outputs": [
    {
     "data": {
      "text/plain": [
       "(81,)"
      ]
     },
     "execution_count": 5,
     "metadata": {},
     "output_type": "execute_result"
    }
   ],
   "source": [
    "train_df.duplicated().sum()\n",
    "# train_df.drop_duplicates() no meaning of these as there is no missing values\n",
    "train_df.columns.shape"
   ]
  },
  {
   "cell_type": "code",
   "execution_count": 6,
   "id": "7368058e",
   "metadata": {
    "execution": {
     "iopub.execute_input": "2022-09-07T18:55:26.645932Z",
     "iopub.status.busy": "2022-09-07T18:55:26.645482Z",
     "iopub.status.idle": "2022-09-07T18:55:26.661982Z",
     "shell.execute_reply": "2022-09-07T18:55:26.660759Z"
    },
    "papermill": {
     "duration": 0.027711,
     "end_time": "2022-09-07T18:55:26.665280",
     "exception": false,
     "start_time": "2022-09-07T18:55:26.637569",
     "status": "completed"
    },
    "tags": []
   },
   "outputs": [
    {
     "data": {
      "text/plain": [
       "Index(['id', 'mssubclass', 'mszoning', 'lotarea', 'street', 'lotshape',\n",
       "       'landcontour', 'utilities', 'lotconfig', 'landslope', 'neighborhood',\n",
       "       'condition1', 'condition2', 'bldgtype', 'housestyle', 'overallqual',\n",
       "       'overallcond', 'yearbuilt', 'yearremodadd', 'roofstyle', 'roofmatl',\n",
       "       'exterior1st', 'exterior2nd', 'exterqual', 'extercond', 'foundation',\n",
       "       'bsmtfinsf1', 'bsmtfinsf2', 'bsmtunfsf', 'totalbsmtsf', 'heating',\n",
       "       'heatingqc', 'centralair', '1stflrsf', '2ndflrsf', 'lowqualfinsf',\n",
       "       'grlivarea', 'bsmtfullbath', 'bsmthalfbath', 'fullbath', 'halfbath',\n",
       "       'bedroomabvgr', 'kitchenabvgr', 'kitchenqual', 'totrmsabvgrd',\n",
       "       'functional', 'fireplaces', 'garagecars', 'garagearea', 'paveddrive',\n",
       "       'wooddecksf', 'openporchsf', 'enclosedporch', '3ssnporch',\n",
       "       'screenporch', 'poolarea', 'miscval', 'mosold', 'yrsold', 'saletype',\n",
       "       'salecondition', 'saleprice'],\n",
       "      dtype='object')"
      ]
     },
     "execution_count": 6,
     "metadata": {},
     "output_type": "execute_result"
    }
   ],
   "source": [
    "train_df = train_df.dropna( axis= 1)\n",
    "train_df.columns\n",
    "# here we have to be take care that the drop_na just make the copy of the dataset and not the make teh change in the real thing"
   ]
  },
  {
   "cell_type": "code",
   "execution_count": 7,
   "id": "073f7fd0",
   "metadata": {
    "execution": {
     "iopub.execute_input": "2022-09-07T18:55:26.680638Z",
     "iopub.status.busy": "2022-09-07T18:55:26.680218Z",
     "iopub.status.idle": "2022-09-07T18:55:26.700128Z",
     "shell.execute_reply": "2022-09-07T18:55:26.699194Z"
    },
    "papermill": {
     "duration": 0.030892,
     "end_time": "2022-09-07T18:55:26.703039",
     "exception": false,
     "start_time": "2022-09-07T18:55:26.672147",
     "status": "completed"
    },
    "tags": []
   },
   "outputs": [
    {
     "data": {
      "text/html": [
       "<div>\n",
       "<style scoped>\n",
       "    .dataframe tbody tr th:only-of-type {\n",
       "        vertical-align: middle;\n",
       "    }\n",
       "\n",
       "    .dataframe tbody tr th {\n",
       "        vertical-align: top;\n",
       "    }\n",
       "\n",
       "    .dataframe thead th {\n",
       "        text-align: right;\n",
       "    }\n",
       "</style>\n",
       "<table border=\"1\" class=\"dataframe\">\n",
       "  <thead>\n",
       "    <tr style=\"text-align: right;\">\n",
       "      <th></th>\n",
       "      <th>id</th>\n",
       "      <th>mssubclass</th>\n",
       "      <th>mszoning</th>\n",
       "      <th>lotarea</th>\n",
       "      <th>street</th>\n",
       "    </tr>\n",
       "  </thead>\n",
       "  <tbody>\n",
       "    <tr>\n",
       "      <th>0</th>\n",
       "      <td>1</td>\n",
       "      <td>60</td>\n",
       "      <td>RL</td>\n",
       "      <td>8450</td>\n",
       "      <td>Pave</td>\n",
       "    </tr>\n",
       "    <tr>\n",
       "      <th>1</th>\n",
       "      <td>2</td>\n",
       "      <td>20</td>\n",
       "      <td>RL</td>\n",
       "      <td>9600</td>\n",
       "      <td>Pave</td>\n",
       "    </tr>\n",
       "    <tr>\n",
       "      <th>2</th>\n",
       "      <td>3</td>\n",
       "      <td>60</td>\n",
       "      <td>RL</td>\n",
       "      <td>11250</td>\n",
       "      <td>Pave</td>\n",
       "    </tr>\n",
       "    <tr>\n",
       "      <th>3</th>\n",
       "      <td>4</td>\n",
       "      <td>70</td>\n",
       "      <td>RL</td>\n",
       "      <td>9550</td>\n",
       "      <td>Pave</td>\n",
       "    </tr>\n",
       "    <tr>\n",
       "      <th>4</th>\n",
       "      <td>5</td>\n",
       "      <td>60</td>\n",
       "      <td>RL</td>\n",
       "      <td>14260</td>\n",
       "      <td>Pave</td>\n",
       "    </tr>\n",
       "    <tr>\n",
       "      <th>...</th>\n",
       "      <td>...</td>\n",
       "      <td>...</td>\n",
       "      <td>...</td>\n",
       "      <td>...</td>\n",
       "      <td>...</td>\n",
       "    </tr>\n",
       "    <tr>\n",
       "      <th>1455</th>\n",
       "      <td>1456</td>\n",
       "      <td>60</td>\n",
       "      <td>RL</td>\n",
       "      <td>7917</td>\n",
       "      <td>Pave</td>\n",
       "    </tr>\n",
       "    <tr>\n",
       "      <th>1456</th>\n",
       "      <td>1457</td>\n",
       "      <td>20</td>\n",
       "      <td>RL</td>\n",
       "      <td>13175</td>\n",
       "      <td>Pave</td>\n",
       "    </tr>\n",
       "    <tr>\n",
       "      <th>1457</th>\n",
       "      <td>1458</td>\n",
       "      <td>70</td>\n",
       "      <td>RL</td>\n",
       "      <td>9042</td>\n",
       "      <td>Pave</td>\n",
       "    </tr>\n",
       "    <tr>\n",
       "      <th>1458</th>\n",
       "      <td>1459</td>\n",
       "      <td>20</td>\n",
       "      <td>RL</td>\n",
       "      <td>9717</td>\n",
       "      <td>Pave</td>\n",
       "    </tr>\n",
       "    <tr>\n",
       "      <th>1459</th>\n",
       "      <td>1460</td>\n",
       "      <td>20</td>\n",
       "      <td>RL</td>\n",
       "      <td>9937</td>\n",
       "      <td>Pave</td>\n",
       "    </tr>\n",
       "  </tbody>\n",
       "</table>\n",
       "<p>1460 rows × 5 columns</p>\n",
       "</div>"
      ],
      "text/plain": [
       "        id  mssubclass mszoning  lotarea street\n",
       "0        1          60       RL     8450   Pave\n",
       "1        2          20       RL     9600   Pave\n",
       "2        3          60       RL    11250   Pave\n",
       "3        4          70       RL     9550   Pave\n",
       "4        5          60       RL    14260   Pave\n",
       "...    ...         ...      ...      ...    ...\n",
       "1455  1456          60       RL     7917   Pave\n",
       "1456  1457          20       RL    13175   Pave\n",
       "1457  1458          70       RL     9042   Pave\n",
       "1458  1459          20       RL     9717   Pave\n",
       "1459  1460          20       RL     9937   Pave\n",
       "\n",
       "[1460 rows x 5 columns]"
      ]
     },
     "execution_count": 7,
     "metadata": {},
     "output_type": "execute_result"
    }
   ],
   "source": [
    "train_df.loc[:,'id' : 'overallqual']\n",
    "train_df.iloc[:,0:5]\n",
    "# there are two ways to select the sub set from the data set. One is interger based method and otherone is the label based method."
   ]
  },
  {
   "cell_type": "markdown",
   "id": "a1827485",
   "metadata": {
    "papermill": {
     "duration": 0.009457,
     "end_time": "2022-09-07T18:55:26.719623",
     "exception": false,
     "start_time": "2022-09-07T18:55:26.710166",
     "status": "completed"
    },
    "tags": []
   },
   "source": [
    "# Lets start the EDA"
   ]
  },
  {
   "cell_type": "markdown",
   "id": "9bacca10",
   "metadata": {
    "papermill": {
     "duration": 0.007306,
     "end_time": "2022-09-07T18:55:26.736862",
     "exception": false,
     "start_time": "2022-09-07T18:55:26.729556",
     "status": "completed"
    },
    "tags": []
   },
   "source": [
    "## Univeriate Analysis"
   ]
  },
  {
   "cell_type": "code",
   "execution_count": 8,
   "id": "587683e1",
   "metadata": {
    "execution": {
     "iopub.execute_input": "2022-09-07T18:55:26.754477Z",
     "iopub.status.busy": "2022-09-07T18:55:26.753818Z",
     "iopub.status.idle": "2022-09-07T18:55:26.886282Z",
     "shell.execute_reply": "2022-09-07T18:55:26.884956Z"
    },
    "papermill": {
     "duration": 0.144807,
     "end_time": "2022-09-07T18:55:26.888920",
     "exception": false,
     "start_time": "2022-09-07T18:55:26.744113",
     "status": "completed"
    },
    "tags": []
   },
   "outputs": [
    {
     "data": {
      "text/html": [
       "<div>\n",
       "<style scoped>\n",
       "    .dataframe tbody tr th:only-of-type {\n",
       "        vertical-align: middle;\n",
       "    }\n",
       "\n",
       "    .dataframe tbody tr th {\n",
       "        vertical-align: top;\n",
       "    }\n",
       "\n",
       "    .dataframe thead th {\n",
       "        text-align: right;\n",
       "    }\n",
       "</style>\n",
       "<table border=\"1\" class=\"dataframe\">\n",
       "  <thead>\n",
       "    <tr style=\"text-align: right;\">\n",
       "      <th></th>\n",
       "      <th>id</th>\n",
       "      <th>mssubclass</th>\n",
       "      <th>lotarea</th>\n",
       "      <th>overallqual</th>\n",
       "      <th>overallcond</th>\n",
       "      <th>yearbuilt</th>\n",
       "      <th>yearremodadd</th>\n",
       "      <th>bsmtfinsf1</th>\n",
       "      <th>bsmtfinsf2</th>\n",
       "      <th>bsmtunfsf</th>\n",
       "      <th>...</th>\n",
       "      <th>wooddecksf</th>\n",
       "      <th>openporchsf</th>\n",
       "      <th>enclosedporch</th>\n",
       "      <th>3ssnporch</th>\n",
       "      <th>screenporch</th>\n",
       "      <th>poolarea</th>\n",
       "      <th>miscval</th>\n",
       "      <th>mosold</th>\n",
       "      <th>yrsold</th>\n",
       "      <th>saleprice</th>\n",
       "    </tr>\n",
       "  </thead>\n",
       "  <tbody>\n",
       "    <tr>\n",
       "      <th>count</th>\n",
       "      <td>1460.000000</td>\n",
       "      <td>1460.000000</td>\n",
       "      <td>1460.000000</td>\n",
       "      <td>1460.000000</td>\n",
       "      <td>1460.000000</td>\n",
       "      <td>1460.000000</td>\n",
       "      <td>1460.000000</td>\n",
       "      <td>1460.000000</td>\n",
       "      <td>1460.000000</td>\n",
       "      <td>1460.000000</td>\n",
       "      <td>...</td>\n",
       "      <td>1460.000000</td>\n",
       "      <td>1460.000000</td>\n",
       "      <td>1460.000000</td>\n",
       "      <td>1460.000000</td>\n",
       "      <td>1460.000000</td>\n",
       "      <td>1460.000000</td>\n",
       "      <td>1460.000000</td>\n",
       "      <td>1460.000000</td>\n",
       "      <td>1460.000000</td>\n",
       "      <td>1460.000000</td>\n",
       "    </tr>\n",
       "    <tr>\n",
       "      <th>mean</th>\n",
       "      <td>730.500000</td>\n",
       "      <td>56.897260</td>\n",
       "      <td>10516.828082</td>\n",
       "      <td>6.099315</td>\n",
       "      <td>5.575342</td>\n",
       "      <td>1971.267808</td>\n",
       "      <td>1984.865753</td>\n",
       "      <td>443.639726</td>\n",
       "      <td>46.549315</td>\n",
       "      <td>567.240411</td>\n",
       "      <td>...</td>\n",
       "      <td>94.244521</td>\n",
       "      <td>46.660274</td>\n",
       "      <td>21.954110</td>\n",
       "      <td>3.409589</td>\n",
       "      <td>15.060959</td>\n",
       "      <td>2.758904</td>\n",
       "      <td>43.489041</td>\n",
       "      <td>6.321918</td>\n",
       "      <td>2007.815753</td>\n",
       "      <td>180921.195890</td>\n",
       "    </tr>\n",
       "    <tr>\n",
       "      <th>std</th>\n",
       "      <td>421.610009</td>\n",
       "      <td>42.300571</td>\n",
       "      <td>9981.264932</td>\n",
       "      <td>1.382997</td>\n",
       "      <td>1.112799</td>\n",
       "      <td>30.202904</td>\n",
       "      <td>20.645407</td>\n",
       "      <td>456.098091</td>\n",
       "      <td>161.319273</td>\n",
       "      <td>441.866955</td>\n",
       "      <td>...</td>\n",
       "      <td>125.338794</td>\n",
       "      <td>66.256028</td>\n",
       "      <td>61.119149</td>\n",
       "      <td>29.317331</td>\n",
       "      <td>55.757415</td>\n",
       "      <td>40.177307</td>\n",
       "      <td>496.123024</td>\n",
       "      <td>2.703626</td>\n",
       "      <td>1.328095</td>\n",
       "      <td>79442.502883</td>\n",
       "    </tr>\n",
       "    <tr>\n",
       "      <th>min</th>\n",
       "      <td>1.000000</td>\n",
       "      <td>20.000000</td>\n",
       "      <td>1300.000000</td>\n",
       "      <td>1.000000</td>\n",
       "      <td>1.000000</td>\n",
       "      <td>1872.000000</td>\n",
       "      <td>1950.000000</td>\n",
       "      <td>0.000000</td>\n",
       "      <td>0.000000</td>\n",
       "      <td>0.000000</td>\n",
       "      <td>...</td>\n",
       "      <td>0.000000</td>\n",
       "      <td>0.000000</td>\n",
       "      <td>0.000000</td>\n",
       "      <td>0.000000</td>\n",
       "      <td>0.000000</td>\n",
       "      <td>0.000000</td>\n",
       "      <td>0.000000</td>\n",
       "      <td>1.000000</td>\n",
       "      <td>2006.000000</td>\n",
       "      <td>34900.000000</td>\n",
       "    </tr>\n",
       "    <tr>\n",
       "      <th>10%</th>\n",
       "      <td>146.900000</td>\n",
       "      <td>20.000000</td>\n",
       "      <td>5000.000000</td>\n",
       "      <td>5.000000</td>\n",
       "      <td>5.000000</td>\n",
       "      <td>1924.900000</td>\n",
       "      <td>1950.000000</td>\n",
       "      <td>0.000000</td>\n",
       "      <td>0.000000</td>\n",
       "      <td>74.900000</td>\n",
       "      <td>...</td>\n",
       "      <td>0.000000</td>\n",
       "      <td>0.000000</td>\n",
       "      <td>0.000000</td>\n",
       "      <td>0.000000</td>\n",
       "      <td>0.000000</td>\n",
       "      <td>0.000000</td>\n",
       "      <td>0.000000</td>\n",
       "      <td>3.000000</td>\n",
       "      <td>2006.000000</td>\n",
       "      <td>106475.000000</td>\n",
       "    </tr>\n",
       "    <tr>\n",
       "      <th>20%</th>\n",
       "      <td>292.800000</td>\n",
       "      <td>20.000000</td>\n",
       "      <td>7078.400000</td>\n",
       "      <td>5.000000</td>\n",
       "      <td>5.000000</td>\n",
       "      <td>1947.800000</td>\n",
       "      <td>1961.800000</td>\n",
       "      <td>0.000000</td>\n",
       "      <td>0.000000</td>\n",
       "      <td>172.000000</td>\n",
       "      <td>...</td>\n",
       "      <td>0.000000</td>\n",
       "      <td>0.000000</td>\n",
       "      <td>0.000000</td>\n",
       "      <td>0.000000</td>\n",
       "      <td>0.000000</td>\n",
       "      <td>0.000000</td>\n",
       "      <td>0.000000</td>\n",
       "      <td>4.000000</td>\n",
       "      <td>2006.000000</td>\n",
       "      <td>124000.000000</td>\n",
       "    </tr>\n",
       "    <tr>\n",
       "      <th>30%</th>\n",
       "      <td>438.700000</td>\n",
       "      <td>20.000000</td>\n",
       "      <td>8063.700000</td>\n",
       "      <td>5.000000</td>\n",
       "      <td>5.000000</td>\n",
       "      <td>1958.000000</td>\n",
       "      <td>1971.000000</td>\n",
       "      <td>0.000000</td>\n",
       "      <td>0.000000</td>\n",
       "      <td>280.000000</td>\n",
       "      <td>...</td>\n",
       "      <td>0.000000</td>\n",
       "      <td>0.000000</td>\n",
       "      <td>0.000000</td>\n",
       "      <td>0.000000</td>\n",
       "      <td>0.000000</td>\n",
       "      <td>0.000000</td>\n",
       "      <td>0.000000</td>\n",
       "      <td>5.000000</td>\n",
       "      <td>2007.000000</td>\n",
       "      <td>135500.000000</td>\n",
       "    </tr>\n",
       "    <tr>\n",
       "      <th>40%</th>\n",
       "      <td>584.600000</td>\n",
       "      <td>30.000000</td>\n",
       "      <td>8793.400000</td>\n",
       "      <td>6.000000</td>\n",
       "      <td>5.000000</td>\n",
       "      <td>1965.000000</td>\n",
       "      <td>1980.000000</td>\n",
       "      <td>218.600000</td>\n",
       "      <td>0.000000</td>\n",
       "      <td>374.600000</td>\n",
       "      <td>...</td>\n",
       "      <td>0.000000</td>\n",
       "      <td>0.000000</td>\n",
       "      <td>0.000000</td>\n",
       "      <td>0.000000</td>\n",
       "      <td>0.000000</td>\n",
       "      <td>0.000000</td>\n",
       "      <td>0.000000</td>\n",
       "      <td>6.000000</td>\n",
       "      <td>2007.000000</td>\n",
       "      <td>147000.000000</td>\n",
       "    </tr>\n",
       "    <tr>\n",
       "      <th>50%</th>\n",
       "      <td>730.500000</td>\n",
       "      <td>50.000000</td>\n",
       "      <td>9478.500000</td>\n",
       "      <td>6.000000</td>\n",
       "      <td>5.000000</td>\n",
       "      <td>1973.000000</td>\n",
       "      <td>1994.000000</td>\n",
       "      <td>383.500000</td>\n",
       "      <td>0.000000</td>\n",
       "      <td>477.500000</td>\n",
       "      <td>...</td>\n",
       "      <td>0.000000</td>\n",
       "      <td>25.000000</td>\n",
       "      <td>0.000000</td>\n",
       "      <td>0.000000</td>\n",
       "      <td>0.000000</td>\n",
       "      <td>0.000000</td>\n",
       "      <td>0.000000</td>\n",
       "      <td>6.000000</td>\n",
       "      <td>2008.000000</td>\n",
       "      <td>163000.000000</td>\n",
       "    </tr>\n",
       "    <tr>\n",
       "      <th>max</th>\n",
       "      <td>1460.000000</td>\n",
       "      <td>190.000000</td>\n",
       "      <td>215245.000000</td>\n",
       "      <td>10.000000</td>\n",
       "      <td>9.000000</td>\n",
       "      <td>2010.000000</td>\n",
       "      <td>2010.000000</td>\n",
       "      <td>5644.000000</td>\n",
       "      <td>1474.000000</td>\n",
       "      <td>2336.000000</td>\n",
       "      <td>...</td>\n",
       "      <td>857.000000</td>\n",
       "      <td>547.000000</td>\n",
       "      <td>552.000000</td>\n",
       "      <td>508.000000</td>\n",
       "      <td>480.000000</td>\n",
       "      <td>738.000000</td>\n",
       "      <td>15500.000000</td>\n",
       "      <td>12.000000</td>\n",
       "      <td>2010.000000</td>\n",
       "      <td>755000.000000</td>\n",
       "    </tr>\n",
       "  </tbody>\n",
       "</table>\n",
       "<p>10 rows × 35 columns</p>\n",
       "</div>"
      ],
      "text/plain": [
       "                id   mssubclass        lotarea  overallqual  overallcond  \\\n",
       "count  1460.000000  1460.000000    1460.000000  1460.000000  1460.000000   \n",
       "mean    730.500000    56.897260   10516.828082     6.099315     5.575342   \n",
       "std     421.610009    42.300571    9981.264932     1.382997     1.112799   \n",
       "min       1.000000    20.000000    1300.000000     1.000000     1.000000   \n",
       "10%     146.900000    20.000000    5000.000000     5.000000     5.000000   \n",
       "20%     292.800000    20.000000    7078.400000     5.000000     5.000000   \n",
       "30%     438.700000    20.000000    8063.700000     5.000000     5.000000   \n",
       "40%     584.600000    30.000000    8793.400000     6.000000     5.000000   \n",
       "50%     730.500000    50.000000    9478.500000     6.000000     5.000000   \n",
       "max    1460.000000   190.000000  215245.000000    10.000000     9.000000   \n",
       "\n",
       "         yearbuilt  yearremodadd   bsmtfinsf1   bsmtfinsf2    bsmtunfsf  ...  \\\n",
       "count  1460.000000   1460.000000  1460.000000  1460.000000  1460.000000  ...   \n",
       "mean   1971.267808   1984.865753   443.639726    46.549315   567.240411  ...   \n",
       "std      30.202904     20.645407   456.098091   161.319273   441.866955  ...   \n",
       "min    1872.000000   1950.000000     0.000000     0.000000     0.000000  ...   \n",
       "10%    1924.900000   1950.000000     0.000000     0.000000    74.900000  ...   \n",
       "20%    1947.800000   1961.800000     0.000000     0.000000   172.000000  ...   \n",
       "30%    1958.000000   1971.000000     0.000000     0.000000   280.000000  ...   \n",
       "40%    1965.000000   1980.000000   218.600000     0.000000   374.600000  ...   \n",
       "50%    1973.000000   1994.000000   383.500000     0.000000   477.500000  ...   \n",
       "max    2010.000000   2010.000000  5644.000000  1474.000000  2336.000000  ...   \n",
       "\n",
       "        wooddecksf  openporchsf  enclosedporch    3ssnporch  screenporch  \\\n",
       "count  1460.000000  1460.000000    1460.000000  1460.000000  1460.000000   \n",
       "mean     94.244521    46.660274      21.954110     3.409589    15.060959   \n",
       "std     125.338794    66.256028      61.119149    29.317331    55.757415   \n",
       "min       0.000000     0.000000       0.000000     0.000000     0.000000   \n",
       "10%       0.000000     0.000000       0.000000     0.000000     0.000000   \n",
       "20%       0.000000     0.000000       0.000000     0.000000     0.000000   \n",
       "30%       0.000000     0.000000       0.000000     0.000000     0.000000   \n",
       "40%       0.000000     0.000000       0.000000     0.000000     0.000000   \n",
       "50%       0.000000    25.000000       0.000000     0.000000     0.000000   \n",
       "max     857.000000   547.000000     552.000000   508.000000   480.000000   \n",
       "\n",
       "          poolarea       miscval       mosold       yrsold      saleprice  \n",
       "count  1460.000000   1460.000000  1460.000000  1460.000000    1460.000000  \n",
       "mean      2.758904     43.489041     6.321918  2007.815753  180921.195890  \n",
       "std      40.177307    496.123024     2.703626     1.328095   79442.502883  \n",
       "min       0.000000      0.000000     1.000000  2006.000000   34900.000000  \n",
       "10%       0.000000      0.000000     3.000000  2006.000000  106475.000000  \n",
       "20%       0.000000      0.000000     4.000000  2006.000000  124000.000000  \n",
       "30%       0.000000      0.000000     5.000000  2007.000000  135500.000000  \n",
       "40%       0.000000      0.000000     6.000000  2007.000000  147000.000000  \n",
       "50%       0.000000      0.000000     6.000000  2008.000000  163000.000000  \n",
       "max     738.000000  15500.000000    12.000000  2010.000000  755000.000000  \n",
       "\n",
       "[10 rows x 35 columns]"
      ]
     },
     "execution_count": 8,
     "metadata": {},
     "output_type": "execute_result"
    }
   ],
   "source": [
    "# .describe method will give the summary satistics\n",
    "train_df.describe(percentiles=[0.1,0.2,0.3,0.4])\n"
   ]
  },
  {
   "cell_type": "code",
   "execution_count": 9,
   "id": "4403f0b5",
   "metadata": {
    "execution": {
     "iopub.execute_input": "2022-09-07T18:55:26.905991Z",
     "iopub.status.busy": "2022-09-07T18:55:26.905133Z",
     "iopub.status.idle": "2022-09-07T18:55:27.175866Z",
     "shell.execute_reply": "2022-09-07T18:55:27.174548Z"
    },
    "papermill": {
     "duration": 0.282349,
     "end_time": "2022-09-07T18:55:27.178762",
     "exception": false,
     "start_time": "2022-09-07T18:55:26.896413",
     "status": "completed"
    },
    "tags": []
   },
   "outputs": [
    {
     "data": {
      "text/plain": [
       "Text(0, 0.5, 'Number of the observations')"
      ]
     },
     "execution_count": 9,
     "metadata": {},
     "output_type": "execute_result"
    },
    {
     "data": {
      "image/png": "[encoded data removed]",
      "text/plain": [
       "<Figure size 432x288 with 1 Axes>"
      ]
     },
     "metadata": {
      "needs_background": "light"
     },
     "output_type": "display_data"
    }
   ],
   "source": [
    "# graphical method\n",
    "x = train_df.saleprice\n",
    "plt.hist(x, bins = 20)\n",
    "plt.xlabel('Sales Price')\n",
    "plt.ylabel('Number of the observations')"
   ]
  },
  {
   "cell_type": "code",
   "execution_count": 10,
   "id": "5d72d33b",
   "metadata": {
    "execution": {
     "iopub.execute_input": "2022-09-07T18:55:27.196482Z",
     "iopub.status.busy": "2022-09-07T18:55:27.195813Z",
     "iopub.status.idle": "2022-09-07T18:55:28.991787Z",
     "shell.execute_reply": "2022-09-07T18:55:28.990475Z"
    },
    "papermill": {
     "duration": 1.808046,
     "end_time": "2022-09-07T18:55:28.994719",
     "exception": false,
     "start_time": "2022-09-07T18:55:27.186673",
     "status": "completed"
    },
    "tags": []
   },
   "outputs": [
    {
     "data": {
      "text/plain": [
       "<AxesSubplot:xlabel='saleprice', ylabel='Count'>"
      ]
     },
     "execution_count": 10,
     "metadata": {},
     "output_type": "execute_result"
    },
    {
     "data": {
      "image/png": "[encoded data removed]",
      "text/plain": [
       "<Figure size 432x288 with 1 Axes>"
      ]
     },
     "metadata": {
      "needs_background": "light"
     },
     "output_type": "display_data"
    }
   ],
   "source": [
    "import seaborn as sns\n",
    "sns.histplot(train_df, x = train_df.saleprice, hue = train_df.overallqual > 6)"
   ]
  },
  {
   "cell_type": "code",
   "execution_count": 11,
   "id": "e2184b53",
   "metadata": {
    "execution": {
     "iopub.execute_input": "2022-09-07T18:55:29.014850Z",
     "iopub.status.busy": "2022-09-07T18:55:29.014432Z",
     "iopub.status.idle": "2022-09-07T18:55:29.643856Z",
     "shell.execute_reply": "2022-09-07T18:55:29.642682Z"
    },
    "papermill": {
     "duration": 0.642184,
     "end_time": "2022-09-07T18:55:29.646353",
     "exception": false,
     "start_time": "2022-09-07T18:55:29.004169",
     "status": "completed"
    },
    "tags": []
   },
   "outputs": [
    {
     "data": {
      "text/plain": [
       "<AxesSubplot:xlabel='overallqual', ylabel='saleprice'>"
      ]
     },
     "execution_count": 11,
     "metadata": {},
     "output_type": "execute_result"
    },
    {
     "data": {
      "image/png": "[encoded data removed]",
      "text/plain": [
       "<Figure size 432x288 with 1 Axes>"
      ]
     },
     "metadata": {
      "needs_background": "light"
     },
     "output_type": "display_data"
    }
   ],
   "source": [
    "# lets make teh box plot\n",
    "plt.boxplot(train_df['saleprice'])\n",
    "sns.boxplot(y = train_df['saleprice'], x = train_df.overallqual, hue = train_df.overallqual > 5)"
   ]
  },
  {
   "cell_type": "code",
   "execution_count": 12,
   "id": "f08262aa",
   "metadata": {
    "execution": {
     "iopub.execute_input": "2022-09-07T18:55:29.666137Z",
     "iopub.status.busy": "2022-09-07T18:55:29.665678Z",
     "iopub.status.idle": "2022-09-07T18:55:29.972536Z",
     "shell.execute_reply": "2022-09-07T18:55:29.971416Z"
    },
    "papermill": {
     "duration": 0.319379,
     "end_time": "2022-09-07T18:55:29.975179",
     "exception": false,
     "start_time": "2022-09-07T18:55:29.655800",
     "status": "completed"
    },
    "tags": []
   },
   "outputs": [
    {
     "data": {
      "text/plain": [
       "<AxesSubplot:>"
      ]
     },
     "execution_count": 12,
     "metadata": {},
     "output_type": "execute_result"
    },
    {
     "data": {
      "image/png": "[encoded data removed]",
      "text/plain": [
       "<Figure size 432x288 with 2 Axes>"
      ]
     },
     "metadata": {
      "needs_background": "light"
     },
     "output_type": "display_data"
    }
   ],
   "source": [
    "# now lets make the heatmap plot\n",
    "x = train_df[['saleprice', 'overallqual', 'grlivarea', 'garagecars', 'totalbsmtsf']].corr()\n",
    "sns.heatmap(x)"
   ]
  },
  {
   "cell_type": "code",
   "execution_count": 13,
   "id": "88860995",
   "metadata": {
    "execution": {
     "iopub.execute_input": "2022-09-07T18:55:29.996069Z",
     "iopub.status.busy": "2022-09-07T18:55:29.995639Z",
     "iopub.status.idle": "2022-09-07T18:55:30.561778Z",
     "shell.execute_reply": "2022-09-07T18:55:30.560558Z"
    },
    "papermill": {
     "duration": 0.580485,
     "end_time": "2022-09-07T18:55:30.564821",
     "exception": false,
     "start_time": "2022-09-07T18:55:29.984336",
     "status": "completed"
    },
    "tags": []
   },
   "outputs": [
    {
     "data": {
      "text/plain": [
       "<AxesSubplot:xlabel='saleprice', ylabel='grlivarea'>"
      ]
     },
     "execution_count": 13,
     "metadata": {},
     "output_type": "execute_result"
    },
    {
     "data": {
      "image/png": "[encoded data removed]",
      "text/plain": [
       "<Figure size 432x288 with 1 Axes>"
      ]
     },
     "metadata": {
      "needs_background": "light"
     },
     "output_type": "display_data"
    }
   ],
   "source": [
    "#lets make the scatter plot\n",
    "sns.scatterplot(x = train_df.saleprice, y = train_df.grlivarea, hue = train_df.overallqual)"
   ]
  },
  {
   "cell_type": "code",
   "execution_count": 14,
   "id": "fd3c4f18",
   "metadata": {
    "execution": {
     "iopub.execute_input": "2022-09-07T18:55:30.586715Z",
     "iopub.status.busy": "2022-09-07T18:55:30.586279Z",
     "iopub.status.idle": "2022-09-07T18:55:30.843404Z",
     "shell.execute_reply": "2022-09-07T18:55:30.842102Z"
    },
    "papermill": {
     "duration": 0.270612,
     "end_time": "2022-09-07T18:55:30.845679",
     "exception": false,
     "start_time": "2022-09-07T18:55:30.575067",
     "status": "completed"
    },
    "tags": []
   },
   "outputs": [
    {
     "data": {
      "text/plain": [
       "<AxesSubplot:xlabel='saleprice', ylabel='grlivarea'>"
      ]
     },
     "execution_count": 14,
     "metadata": {},
     "output_type": "execute_result"
    },
    {
     "data": {
      "image/png": "[encoded data removed]",
      "text/plain": [
       "<Figure size 432x288 with 1 Axes>"
      ]
     },
     "metadata": {
      "needs_background": "light"
     },
     "output_type": "display_data"
    }
   ],
   "source": [
    "sns.scatterplot(x = train_df.saleprice, y = train_df.grlivarea, c = train_df.overallqual)"
   ]
  },
  {
   "cell_type": "code",
   "execution_count": 15,
   "id": "4460944f",
   "metadata": {
    "execution": {
     "iopub.execute_input": "2022-09-07T18:55:30.870124Z",
     "iopub.status.busy": "2022-09-07T18:55:30.869665Z",
     "iopub.status.idle": "2022-09-07T18:55:31.178695Z",
     "shell.execute_reply": "2022-09-07T18:55:31.177559Z"
    },
    "papermill": {
     "duration": 0.324411,
     "end_time": "2022-09-07T18:55:31.181412",
     "exception": false,
     "start_time": "2022-09-07T18:55:30.857001",
     "status": "completed"
    },
    "tags": []
   },
   "outputs": [
    {
     "data": {
      "text/plain": [
       "<AxesSubplot:xlabel='saleprice', ylabel='Count'>"
      ]
     },
     "execution_count": 15,
     "metadata": {},
     "output_type": "execute_result"
    },
    {
     "data": {
      "image/png": "[encoded data removed]",
      "text/plain": [
       "<Figure size 432x288 with 1 Axes>"
      ]
     },
     "metadata": {
      "needs_background": "light"
     },
     "output_type": "display_data"
    }
   ],
   "source": [
    "# Data Preprocessing\n",
    "sns.histplot(x = np.log(train_df.saleprice)) # log make the data more of the normal data\n",
    "#sns.histplot(x = np.sqrt(train_df.saleprice)) #sqrt also make the skewness less\n"
   ]
  },
  {
   "cell_type": "code",
   "execution_count": 16,
   "id": "02e38ee6",
   "metadata": {
    "execution": {
     "iopub.execute_input": "2022-09-07T18:55:31.206143Z",
     "iopub.status.busy": "2022-09-07T18:55:31.205693Z",
     "iopub.status.idle": "2022-09-07T18:55:31.211829Z",
     "shell.execute_reply": "2022-09-07T18:55:31.210946Z"
    },
    "papermill": {
     "duration": 0.02101,
     "end_time": "2022-09-07T18:55:31.213878",
     "exception": false,
     "start_time": "2022-09-07T18:55:31.192868",
     "status": "completed"
    },
    "tags": []
   },
   "outputs": [],
   "source": [
    "few_col = train_df[['saleprice', 'overallqual', 'grlivarea', 'garagecars', 'totalbsmtsf']]"
   ]
  },
  {
   "cell_type": "code",
   "execution_count": 17,
   "id": "8aa4705f",
   "metadata": {
    "execution": {
     "iopub.execute_input": "2022-09-07T18:55:31.238795Z",
     "iopub.status.busy": "2022-09-07T18:55:31.238190Z",
     "iopub.status.idle": "2022-09-07T18:55:31.412120Z",
     "shell.execute_reply": "2022-09-07T18:55:31.410658Z"
    },
    "papermill": {
     "duration": 0.189253,
     "end_time": "2022-09-07T18:55:31.414480",
     "exception": false,
     "start_time": "2022-09-07T18:55:31.225227",
     "status": "completed"
    },
    "tags": []
   },
   "outputs": [
    {
     "name": "stdout",
     "output_type": "stream",
     "text": [
      "[1. 1. 1. 1. 1.]\n"
     ]
    },
    {
     "data": {
      "text/plain": [
       "array([0.01216249, 0.02359715, 0.00979385, 0.03488108, 0.00515188])"
      ]
     },
     "execution_count": 17,
     "metadata": {},
     "output_type": "execute_result"
    }
   ],
   "source": [
    "from sklearn.preprocessing import StandardScaler\n",
    "from sklearn.preprocessing import MinMaxScaler\n",
    "scalar = StandardScaler()\n",
    "print(scalar.fit_transform(few_col).var(axis = 0))\n",
    "MinMaxScaler().fit_transform(few_col).var(axis  = 0)"
   ]
  },
  {
   "cell_type": "code",
   "execution_count": 18,
   "id": "ee671fbd",
   "metadata": {
    "execution": {
     "iopub.execute_input": "2022-09-07T18:55:31.440420Z",
     "iopub.status.busy": "2022-09-07T18:55:31.439341Z",
     "iopub.status.idle": "2022-09-07T18:55:31.469977Z",
     "shell.execute_reply": "2022-09-07T18:55:31.469047Z"
    },
    "papermill": {
     "duration": 0.046379,
     "end_time": "2022-09-07T18:55:31.472255",
     "exception": false,
     "start_time": "2022-09-07T18:55:31.425876",
     "status": "completed"
    },
    "tags": []
   },
   "outputs": [
    {
     "data": {
      "text/plain": [
       "<1460x182 sparse matrix of type '<class 'numpy.float64'>'\n",
       "\twith 39420 stored elements in Compressed Sparse Row format>"
      ]
     },
     "execution_count": 18,
     "metadata": {},
     "output_type": "execute_result"
    }
   ],
   "source": [
    "from sklearn.preprocessing import OneHotEncoder\n",
    "OneHotEncoder().fit_transform(train_df.select_dtypes(exclude = 'number'))"
   ]
  },
  {
   "cell_type": "code",
   "execution_count": 19,
   "id": "69ae70dd",
   "metadata": {
    "execution": {
     "iopub.execute_input": "2022-09-07T18:55:31.496835Z",
     "iopub.status.busy": "2022-09-07T18:55:31.496204Z",
     "iopub.status.idle": "2022-09-07T18:55:31.513035Z",
     "shell.execute_reply": "2022-09-07T18:55:31.511756Z"
    },
    "papermill": {
     "duration": 0.032043,
     "end_time": "2022-09-07T18:55:31.515603",
     "exception": false,
     "start_time": "2022-09-07T18:55:31.483560",
     "status": "completed"
    },
    "tags": []
   },
   "outputs": [
    {
     "data": {
      "text/plain": [
       "mszoning          5\n",
       "street            2\n",
       "lotshape          4\n",
       "landcontour       4\n",
       "utilities         2\n",
       "lotconfig         5\n",
       "landslope         3\n",
       "neighborhood     25\n",
       "condition1        9\n",
       "condition2        8\n",
       "bldgtype          5\n",
       "housestyle        8\n",
       "roofstyle         6\n",
       "roofmatl          8\n",
       "exterior1st      15\n",
       "exterior2nd      16\n",
       "exterqual         4\n",
       "extercond         5\n",
       "foundation        6\n",
       "heating           6\n",
       "heatingqc         5\n",
       "centralair        2\n",
       "kitchenqual       4\n",
       "functional        7\n",
       "paveddrive        3\n",
       "saletype          9\n",
       "salecondition     6\n",
       "dtype: int64"
      ]
     },
     "execution_count": 19,
     "metadata": {},
     "output_type": "execute_result"
    }
   ],
   "source": [
    "train_df.select_dtypes(exclude = 'number').nunique()"
   ]
  },
  {
   "cell_type": "code",
   "execution_count": null,
   "id": "25abefaf",
   "metadata": {
    "papermill": {
     "duration": 0.01082,
     "end_time": "2022-09-07T18:55:31.537766",
     "exception": false,
     "start_time": "2022-09-07T18:55:31.526946",
     "status": "completed"
    },
    "tags": []
   },
   "outputs": [],
   "source": []
  }
 ],
 "metadata": {
  "kernelspec": {
   "display_name": "Python 3",
   "language": "python",
   "name": "python3"
  },
  "language_info": {
   "codemirror_mode": {
    "name": "ipython",
    "version": 3
   },
   "file_extension": ".py",
   "mimetype": "text/x-python",
   "name": "python",
   "nbconvert_exporter": "python",
   "pygments_lexer": "ipython3",
   "version": "3.7.12"
  },
  "papermill": {
   "default_parameters": {},
   "duration": 16.239514,
   "end_time": "2022-09-07T18:55:32.372364",
   "environment_variables": {},
   "exception": null,
   "input_path": "__notebook__.ipynb",
   "output_path": "__notebook__.ipynb",
   "parameters": {},
   "start_time": "2022-09-07T18:55:16.132850",
   "version": "2.3.4"
  }
 },
 "nbformat": 4,
 "nbformat_minor": 5
}
