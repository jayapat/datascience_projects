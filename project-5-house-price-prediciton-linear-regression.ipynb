{
 "cells": [
  {
   "cell_type": "code",
   "execution_count": 1,
   "id": "9238504c",
   "metadata": {
    "_cell_guid": "b1076dfc-b9ad-4769-8c92-a6c4dae69d19",
    "_uuid": "8f2839f25d086af736a60e9eeb907d3b93b6e0e5",
    "execution": {
     "iopub.execute_input": "2022-09-14T20:24:24.162449Z",
     "iopub.status.busy": "2022-09-14T20:24:24.161379Z",
     "iopub.status.idle": "2022-09-14T20:24:24.195854Z",
     "shell.execute_reply": "2022-09-14T20:24:24.195012Z"
    },
    "papermill": {
     "duration": 0.042343,
     "end_time": "2022-09-14T20:24:24.198271",
     "exception": false,
     "start_time": "2022-09-14T20:24:24.155928",
     "status": "completed"
    },
    "tags": []
   },
   "outputs": [
    {
     "name": "stdout",
     "output_type": "stream",
     "text": [
      "/kaggle/input/house-data/house.csv\n"
     ]
    }
   ],
   "source": [
    "# This Python 3 environment comes with many helpful analytics libraries installed\n",
    "# It is defined by the kaggle/python Docker image: https://github.com/kaggle/docker-python\n",
    "# For example, here's several helpful packages to load\n",
    "\n",
    "import numpy as np # linear algebra\n",
    "import pandas as pd # data processing, CSV file I/O (e.g. pd.read_csv)\n",
    "\n",
    "# Input data files are available in the read-only \"../input/\" directory\n",
    "# For example, running this (by clicking run or pressing Shift+Enter) will list all files under the input directory\n",
    "\n",
    "import os\n",
    "for dirname, _, filenames in os.walk('/kaggle/input'):\n",
    "    for filename in filenames:\n",
    "        print(os.path.join(dirname, filename))\n",
    "\n",
    "# You can write up to 20GB to the current directory (/kaggle/working/) that gets preserved as output when you create a version using \"Save & Run All\" \n",
    "# You can also write temporary files to /kaggle/temp/, but they won't be saved outside of the current session"
   ]
  },
  {
   "cell_type": "code",
   "execution_count": 2,
   "id": "929a8e61",
   "metadata": {
    "execution": {
     "iopub.execute_input": "2022-09-14T20:24:24.205108Z",
     "iopub.status.busy": "2022-09-14T20:24:24.204695Z",
     "iopub.status.idle": "2022-09-14T20:24:24.236499Z",
     "shell.execute_reply": "2022-09-14T20:24:24.235550Z"
    },
    "papermill": {
     "duration": 0.038027,
     "end_time": "2022-09-14T20:24:24.239189",
     "exception": false,
     "start_time": "2022-09-14T20:24:24.201162",
     "status": "completed"
    },
    "tags": []
   },
   "outputs": [],
   "source": [
    "df = pd.read_csv('/kaggle/input/house-data/house.csv')"
   ]
  },
  {
   "cell_type": "code",
   "execution_count": 3,
   "id": "4da08c28",
   "metadata": {
    "execution": {
     "iopub.execute_input": "2022-09-14T20:24:24.246534Z",
     "iopub.status.busy": "2022-09-14T20:24:24.246162Z",
     "iopub.status.idle": "2022-09-14T20:24:24.256036Z",
     "shell.execute_reply": "2022-09-14T20:24:24.254945Z"
    },
    "papermill": {
     "duration": 0.016652,
     "end_time": "2022-09-14T20:24:24.258777",
     "exception": false,
     "start_time": "2022-09-14T20:24:24.242125",
     "status": "completed"
    },
    "tags": []
   },
   "outputs": [
    {
     "data": {
      "text/plain": [
       "Index(['total_value', 'tax', 'lot_sqft', 'gross_area', 'living_area', 'floors',\n",
       "       'rooms', 'bedrooms', 'full_bath', 'half_bath', 'kitchen', 'fireplace'],\n",
       "      dtype='object')"
      ]
     },
     "execution_count": 3,
     "metadata": {},
     "output_type": "execute_result"
    }
   ],
   "source": [
    "df.head()\n",
    "df.columns = df.columns.str.lower()\n",
    "df.columns"
   ]
  },
  {
   "cell_type": "code",
   "execution_count": 4,
   "id": "cb753a45",
   "metadata": {
    "execution": {
     "iopub.execute_input": "2022-09-14T20:24:24.267339Z",
     "iopub.status.busy": "2022-09-14T20:24:24.266504Z",
     "iopub.status.idle": "2022-09-14T20:24:24.291373Z",
     "shell.execute_reply": "2022-09-14T20:24:24.290536Z"
    },
    "papermill": {
     "duration": 0.032231,
     "end_time": "2022-09-14T20:24:24.293950",
     "exception": false,
     "start_time": "2022-09-14T20:24:24.261719",
     "status": "completed"
    },
    "tags": []
   },
   "outputs": [
    {
     "name": "stdout",
     "output_type": "stream",
     "text": [
      "<class 'pandas.core.frame.DataFrame'>\n",
      "RangeIndex: 5802 entries, 0 to 5801\n",
      "Data columns (total 12 columns):\n",
      " #   Column       Non-Null Count  Dtype  \n",
      "---  ------       --------------  -----  \n",
      " 0   total_value  5802 non-null   float64\n",
      " 1   tax          5802 non-null   int64  \n",
      " 2   lot_sqft     5802 non-null   int64  \n",
      " 3   gross_area   5802 non-null   int64  \n",
      " 4   living_area  5802 non-null   int64  \n",
      " 5   floors       5802 non-null   float64\n",
      " 6   rooms        5802 non-null   int64  \n",
      " 7   bedrooms     5802 non-null   int64  \n",
      " 8   full_bath    5802 non-null   int64  \n",
      " 9   half_bath    5802 non-null   int64  \n",
      " 10  kitchen      5802 non-null   int64  \n",
      " 11  fireplace    5802 non-null   int64  \n",
      "dtypes: float64(2), int64(10)\n",
      "memory usage: 544.1 KB\n"
     ]
    }
   ],
   "source": [
    "df.info()"
   ]
  },
  {
   "cell_type": "code",
   "execution_count": 5,
   "id": "0addb5f4",
   "metadata": {
    "execution": {
     "iopub.execute_input": "2022-09-14T20:24:24.302432Z",
     "iopub.status.busy": "2022-09-14T20:24:24.301765Z",
     "iopub.status.idle": "2022-09-14T20:24:25.403355Z",
     "shell.execute_reply": "2022-09-14T20:24:25.402290Z"
    },
    "papermill": {
     "duration": 1.10909,
     "end_time": "2022-09-14T20:24:25.406859",
     "exception": false,
     "start_time": "2022-09-14T20:24:24.297769",
     "status": "completed"
    },
    "tags": []
   },
   "outputs": [],
   "source": [
    "from sklearn.model_selection import train_test_split\n"
   ]
  },
  {
   "cell_type": "code",
   "execution_count": 6,
   "id": "078bce9f",
   "metadata": {
    "execution": {
     "iopub.execute_input": "2022-09-14T20:24:25.418725Z",
     "iopub.status.busy": "2022-09-14T20:24:25.417958Z",
     "iopub.status.idle": "2022-09-14T20:24:25.508029Z",
     "shell.execute_reply": "2022-09-14T20:24:25.506809Z"
    },
    "papermill": {
     "duration": 0.098798,
     "end_time": "2022-09-14T20:24:25.511207",
     "exception": false,
     "start_time": "2022-09-14T20:24:25.412409",
     "status": "completed"
    },
    "tags": []
   },
   "outputs": [],
   "source": [
    "from sklearn.linear_model import LinearRegression\n",
    "model = LinearRegression()"
   ]
  },
  {
   "cell_type": "code",
   "execution_count": null,
   "id": "e2408a81",
   "metadata": {
    "papermill": {
     "duration": 0.002571,
     "end_time": "2022-09-14T20:24:25.516801",
     "exception": false,
     "start_time": "2022-09-14T20:24:25.514230",
     "status": "completed"
    },
    "tags": []
   },
   "outputs": [],
   "source": []
  }
 ],
 "metadata": {
  "kernelspec": {
   "display_name": "Python 3",
   "language": "python",
   "name": "python3"
  },
  "language_info": {
   "codemirror_mode": {
    "name": "ipython",
    "version": 3
   },
   "file_extension": ".py",
   "mimetype": "text/x-python",
   "name": "python",
   "nbconvert_exporter": "python",
   "pygments_lexer": "ipython3",
   "version": "3.7.12"
  },
  "papermill": {
   "default_parameters": {},
   "duration": 10.96018,
   "end_time": "2022-09-14T20:24:26.241868",
   "environment_variables": {},
   "exception": null,
   "input_path": "__notebook__.ipynb",
   "output_path": "__notebook__.ipynb",
   "parameters": {},
   "start_time": "2022-09-14T20:24:15.281688",
   "version": "2.3.4"
  }
 },
 "nbformat": 4,
 "nbformat_minor": 5
}
